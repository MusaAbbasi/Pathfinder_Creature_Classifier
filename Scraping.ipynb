{
 "cells": [
  {
   "cell_type": "markdown",
   "metadata": {},
   "source": [
    "# Scraping Pathfinder 1e data"
   ]
  },
  {
   "cell_type": "code",
   "execution_count": 1,
   "metadata": {
    "collapsed": true,
    "jupyter": {
     "outputs_hidden": true
    }
   },
   "outputs": [],
   "source": [
    "import pandas as pd\n",
    "from bs4 import BeautifulSoup\n",
    "import requests"
   ]
  },
  {
   "cell_type": "code",
   "execution_count": 3,
   "metadata": {
    "collapsed": true,
    "jupyter": {
     "outputs_hidden": true
    }
   },
   "outputs": [],
   "source": [
    "pathfinder_monsters = requests.get(\"https://aonprd.com/Monsters.aspx?Letter=All\")"
   ]
  },
  {
   "cell_type": "code",
   "execution_count": 4,
   "metadata": {
    "collapsed": true,
    "jupyter": {
     "outputs_hidden": true
    }
   },
   "outputs": [],
   "source": [
    "soup = BeautifulSoup(pathfinder_monsters.text, \"html.parser\")"
   ]
  },
  {
   "cell_type": "code",
   "execution_count": null,
   "metadata": {
    "tags": []
   },
   "outputs": [],
   "source": [
    "soup.find(\"table\", id=\"ctl00_MainContent_GridView6\")"
   ]
  },
  {
   "cell_type": "code",
   "execution_count": 8,
   "metadata": {},
   "outputs": [
    {
     "data": {
      "text/plain": [
       "[                     Name   CR                     Type  \\\n",
       " 0         Aashaq's Wyvern    8                   dragon   \n",
       " 1                 Aasimar  1/2        outsider (native)   \n",
       " 2              Aatheriexa    7               aberration   \n",
       " 3                   Abaia   10  magical beast (aquatic)   \n",
       " 4              Aballonian    7                construct   \n",
       " ...                   ...  ...                      ...   \n",
       " 3107  Zombie, Zombie Wolf    1                   undead   \n",
       " 3108                Zomok   16      plant (extraplanar)   \n",
       " 3109                 Zoog    1            magical beast   \n",
       " 3110             Zuvembie    4                   undead   \n",
       " 3111             Zygomind   18                    plant   \n",
       " \n",
       "                            Environment  \n",
       " 0              temperate or warm hills  \n",
       " 1                             any land  \n",
       " 2                             any land  \n",
       " 3                           warm lakes  \n",
       " 4                              Aballon  \n",
       " ...                                ...  \n",
       " 3107         cold or temperate forests  \n",
       " 3108  any forests (primal land of fey)  \n",
       " 3109                        any forest  \n",
       " 3110                          any land  \n",
       " 3111                     any temperate  \n",
       " \n",
       " [3112 rows x 4 columns]]"
      ]
     },
     "execution_count": 8,
     "metadata": {},
     "output_type": "execute_result"
    }
   ],
   "source": [
    "pd.read_html(\"https://aonprd.com/Monsters.aspx?Letter=All\")"
   ]
  },
  {
   "cell_type": "markdown",
   "metadata": {},
   "source": [
    "## End of page"
   ]
  },
  {
   "cell_type": "code",
   "execution_count": null,
   "metadata": {},
   "outputs": [],
   "source": []
  }
 ],
 "metadata": {
  "kernelspec": {
   "display_name": "Python (learn-env)",
   "language": "python",
   "name": "learn-env"
  },
  "language_info": {
   "codemirror_mode": {
    "name": "ipython",
    "version": 3
   },
   "file_extension": ".py",
   "mimetype": "text/x-python",
   "name": "python",
   "nbconvert_exporter": "python",
   "pygments_lexer": "ipython3",
   "version": "3.8.5"
  },
  "toc-autonumbering": false,
  "toc-showcode": true
 },
 "nbformat": 4,
 "nbformat_minor": 4
}
