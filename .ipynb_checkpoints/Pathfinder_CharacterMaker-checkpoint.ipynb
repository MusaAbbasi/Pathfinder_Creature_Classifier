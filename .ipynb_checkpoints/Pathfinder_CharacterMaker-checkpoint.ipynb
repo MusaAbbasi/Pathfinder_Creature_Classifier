{
 "cells": [
  {
   "cell_type": "code",
   "execution_count": 10,
   "id": "7a005e3c-14ed-4ab4-ba5a-f80a26b380aa",
   "metadata": {},
   "outputs": [],
   "source": [
    "import numpy as np\n",
    "import random\n",
    "import pandas"
   ]
  },
  {
   "cell_type": "markdown",
   "id": "7a20745b-f434-4d98-90fe-c7d01298bf57",
   "metadata": {},
   "source": [
    "# Tool to make a character for Pathfinder 2E"
   ]
  },
  {
   "cell_type": "markdown",
   "id": "4eb5f229-4fa5-430d-b18b-8a248ed5a764",
   "metadata": {
    "tags": []
   },
   "source": [
    "## Dice Rolling tool"
   ]
  },
  {
   "cell_type": "code",
   "execution_count": 11,
   "id": "a4930121-f004-44ec-86a6-42fc7a08ce13",
   "metadata": {},
   "outputs": [],
   "source": [
    "class Die():\n",
    "    \n",
    "    def __init__(self, sides):\n",
    "        self.sides = sides\n",
    "        \n",
    "    def roll(self, number):\n",
    "        z = []\n",
    "        for x in range(number):\n",
    "            z.append(random.randint(1,self.sides))\n",
    "        return sum(z)\n",
    "        "
   ]
  },
  {
   "cell_type": "code",
   "execution_count": 12,
   "id": "0f608d43-02c4-4045-9f42-75e9c315bbe6",
   "metadata": {},
   "outputs": [],
   "source": [
    "d4 = Die(4)"
   ]
  },
  {
   "cell_type": "code",
   "execution_count": 13,
   "id": "4c614af9-e81d-46e6-b2d0-f35742d60fcc",
   "metadata": {},
   "outputs": [
    {
     "data": {
      "text/plain": [
       "5"
      ]
     },
     "execution_count": 13,
     "metadata": {},
     "output_type": "execute_result"
    }
   ],
   "source": [
    "d4.roll(2)"
   ]
  },
  {
   "cell_type": "markdown",
   "id": "15c6164f-ba74-4821-ae0d-41932abb36e1",
   "metadata": {},
   "source": [
    "## Dictionaries of Ancestries"
   ]
  },
  {
   "cell_type": "code",
   "execution_count": 14,
   "id": "33b80678-54ab-4b32-bfce-6ae7801144b7",
   "metadata": {},
   "outputs": [],
   "source": [
    "ancestry_dict = {}\n",
    "orc = {\"hp\": 10, \"size\": \"medium\", \"speed\": 25, \"stat boosts\": ['strength', 'free'], \"languages\": [\"common\", \"orc\", \"extra*int_mod\"], \"vision\": \"darkvision\"}"
   ]
  },
  {
   "cell_type": "markdown",
   "id": "a9b31e80-19a2-4f91-bd1e-a9dbfd1ba22e",
   "metadata": {},
   "source": [
    "## The character generator"
   ]
  },
  {
   "cell_type": "code",
   "execution_count": 25,
   "id": "5e370c2e-60d0-4f95-a8a7-fc8379e41af4",
   "metadata": {},
   "outputs": [],
   "source": [
    "class Character():\n",
    "    \n",
    "    def __init__(self, name):\n",
    "        self.name = name\n",
    "        self.hp = 0\n",
    "        self.stats = {\"strength\":10, \"dextarity\":10, \"constitution\":10, \"intelligence\":10, \"wisdom\":10, \"charisma\":10}\n",
    "        self.size = None\n",
    "        self.speed = None\n",
    "        self.languages = None\n",
    "        self.vision = None\n",
    "        \n",
    "    def sheet(self):\n",
    "        character_dict = {\"hp\": self.hp, \"stats\": self.stats, \"size\": self.size, \"speed\": self.speed, \"stat boosts\": ['strength', 'free'], \n",
    "                          \"languages\": self.languages, \"vision\": self.vision}\n",
    "        return character_dict\n",
    "        \n",
    "    def Ancestry(self,ancestry_dict):\n",
    "        self.hp = self.hp + ancestry_dict[\"hp\"]\n",
    "        self.size = ancestry_dict[\"size\"]\n",
    "        self.speed = ancestry_dict[\"speed\"]\n",
    "        self.statboosts = ancestry_dict[\"stat boosts\"]\n",
    "        self.languages = ancestry_dict[\"languages\"]\n",
    "        self.vision = ancestry_dict[\"vision\"]\n",
    "        if \"strength\" in ancestry_dict[\"stat boosts\"]: \n",
    "            self.stats[\"strength\"] = self.stats[\"strength\"] +2\n",
    "            \n",
    "        "
   ]
  },
  {
   "cell_type": "code",
   "execution_count": 26,
   "id": "f9dc2ad5-df20-456f-882e-b3c0f2c29dcf",
   "metadata": {},
   "outputs": [],
   "source": [
    "bob = Character(\"bob\")"
   ]
  },
  {
   "cell_type": "code",
   "execution_count": 27,
   "id": "339c8e93-3600-40e1-b7d8-e3b1b212f2c8",
   "metadata": {},
   "outputs": [
    {
     "data": {
      "text/plain": [
       "{'hp': 0,\n",
       " 'stats': {'strength': 10,\n",
       "  'dextarity': 10,\n",
       "  'constitution': 10,\n",
       "  'intelligence': 10,\n",
       "  'wisdom': 10,\n",
       "  'charisma': 10},\n",
       " 'size': None,\n",
       " 'speed': None,\n",
       " 'stat boosts': ['strength', 'free'],\n",
       " 'languages': None,\n",
       " 'vision': None}"
      ]
     },
     "execution_count": 27,
     "metadata": {},
     "output_type": "execute_result"
    }
   ],
   "source": [
    "bob.sheet()"
   ]
  },
  {
   "cell_type": "code",
   "execution_count": 28,
   "id": "8940b6c3-934a-4173-b3bc-15cf08b753c3",
   "metadata": {},
   "outputs": [],
   "source": [
    "bob.Ancestry(orc)"
   ]
  },
  {
   "cell_type": "code",
   "execution_count": 29,
   "id": "ff13809c-6c2a-4ee2-956f-e2a39aaab5fd",
   "metadata": {},
   "outputs": [
    {
     "data": {
      "text/plain": [
       "{'hp': 10,\n",
       " 'stats': {'strength': 12,\n",
       "  'dextarity': 10,\n",
       "  'constitution': 10,\n",
       "  'intelligence': 10,\n",
       "  'wisdom': 10,\n",
       "  'charisma': 10},\n",
       " 'size': 'medium',\n",
       " 'speed': 25,\n",
       " 'stat boosts': ['strength', 'free'],\n",
       " 'languages': ['common', 'orc', 'extra*int_mod'],\n",
       " 'vision': 'darkvision'}"
      ]
     },
     "execution_count": 29,
     "metadata": {},
     "output_type": "execute_result"
    }
   ],
   "source": [
    "bob.sheet()"
   ]
  },
  {
   "cell_type": "code",
   "execution_count": null,
   "id": "13e35119-8fae-4644-bae7-f4794d056215",
   "metadata": {},
   "outputs": [],
   "source": []
  },
  {
   "cell_type": "code",
   "execution_count": null,
   "id": "7f5bfa88-72bc-46d4-b618-6b41dc995fb7",
   "metadata": {},
   "outputs": [],
   "source": []
  }
 ],
 "metadata": {
  "kernelspec": {
   "display_name": "Python 3",
   "language": "python",
   "name": "python3"
  },
  "language_info": {
   "codemirror_mode": {
    "name": "ipython",
    "version": 3
   },
   "file_extension": ".py",
   "mimetype": "text/x-python",
   "name": "python",
   "nbconvert_exporter": "python",
   "pygments_lexer": "ipython3",
   "version": "3.8.5"
  }
 },
 "nbformat": 4,
 "nbformat_minor": 5
}
