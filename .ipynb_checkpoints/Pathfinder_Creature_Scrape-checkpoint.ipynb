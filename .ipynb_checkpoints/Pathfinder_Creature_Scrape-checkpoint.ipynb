{
 "cells": [
  {
   "cell_type": "code",
   "execution_count": 76,
   "metadata": {},
   "outputs": [
    {
     "name": "stdout",
     "output_type": "stream",
     "text": [
      "Pretty printing has been turned OFF\n"
     ]
    }
   ],
   "source": [
    "%pprint"
   ]
  },
  {
   "cell_type": "code",
   "execution_count": 22,
   "metadata": {},
   "outputs": [],
   "source": [
    "import pandas as pd\n",
    "from bs4 import BeautifulSoup\n",
    "import requests\n",
    "import json"
   ]
  },
  {
   "cell_type": "markdown",
   "metadata": {},
   "source": [
    "Scraped a JSON from the datasource by entering Inspector(Q) > Network > Response > and saving it as a JSON with VS Code. Then i editted out the parts of the JSON that made converting to a table impossible."
   ]
  },
  {
   "cell_type": "code",
   "execution_count": 109,
   "metadata": {},
   "outputs": [],
   "source": [
    "with open('data/pathfinder_all_creatures.json','r', encoding='utf-8') as f:\n",
    "    data = json.loads(f.read())"
   ]
  },
  {
   "cell_type": "code",
   "execution_count": 110,
   "metadata": {},
   "outputs": [],
   "source": [
    "df = pd.json_normalize(data)"
   ]
  },
  {
   "cell_type": "code",
   "execution_count": 111,
   "metadata": {},
   "outputs": [],
   "source": [
    "columns_list = list(df.columns)"
   ]
  },
  {
   "cell_type": "code",
   "execution_count": 112,
   "metadata": {},
   "outputs": [
    {
     "data": {
      "text/plain": [
       "['_index', '_id', '_score', 'sort', '_source.source_raw', '_source.constitution', '_source.strength', '_source.hp', '_source.language_markdown', '_source.language', '_source.source', '_source.type', '_source.will_save', '_source.charisma', '_source.speed.max', '_source.speed.land', '_source.perception', '_source.wisdom', '_source.search_markdown', '_source.source_markdown', '_source.heighten_level', '_source.skill', '_source.stealth', '_source.trait', '_source.trait_markdown', '_source.id', '_source.npc', '_source.summary', '_source.ac', '_source.level', '_source.source_category', '_source.summary_markdown', '_source.weakest_save', '_source.speed_raw', '_source.url', '_source.intelligence', '_source.reflex_save', '_source.strongest_save', '_source.dexterity', '_source.fortitude_save', '_source.source_group', '_source.size', '_source.spoilers', '_source.speed_markdown', '_source.trait_raw', '_source.name', '_source.alignment', '_source.category', '_source.hp_raw', '_source.rarity', '_source.resistance_markdown', '_source.sense_markdown', '_source.sense', '_source.resistance.poison', '_source.vision', '_source.pfs', '_source.creature_family_markdown', '_source.creature_family', '_source.resistance_raw', '_source.immunity_markdown', '_source.resistance.all', '_source.resistance.area', '_source.resistance.lawful', '_source.resistance.bludgeoning', '_source.resistance.sonic', '_source.resistance.piercing', '_source.resistance.precision', '_source.resistance.cold_iron', '_source.resistance.cold', '_source.resistance.electricity', '_source.resistance.mental', '_source.resistance.bleed', '_source.resistance.good', '_source.resistance.acid', '_source.resistance.negative', '_source.resistance.orichalcum', '_source.resistance.slashing', '_source.resistance.chaotic', '_source.resistance.fire', '_source.resistance.silver', '_source.resistance.evil', '_source.resistance.physical', '_source.resistance.splash', '_source.immunity', '_source.speed.fly', '_source.weakness_raw', '_source.weakness_markdown', '_source.weakness.cold_iron', '_source.weakness.good', '_source.weakness.cold', '_source.weakness.fire', '_source.speed.swim', '_source.speed.burrow', '_source.weakness.sonic', '_source.speed.climb', '_source.weakness.lawful', '_source.weakness.area', '_source.weakness.piercing', '_source.resistance.positive', '_source.hardness', '_source.hardness_raw', '_source.weakness.chaotic', '_source.weakness.splash', '_source.weakness.slashing', '_source.weakness.evil', '_source.weakness.silver', '_source.weakness.bludgeoning', '_source.school', '_source.weakness.mental', '_source.weakness.positive', '_source.weakness.orichalcum', '_source.weakness.electricity', '_source.weakness.physical', '_source.resistance.force', '_source.weakness.negative', '_source.weakness.acid', '_source.weakness.force', '_source.weakness.bleed']"
      ]
     },
     "execution_count": 112,
     "metadata": {},
     "output_type": "execute_result"
    }
   ],
   "source": [
    "columns_list"
   ]
  },
  {
   "cell_type": "code",
   "execution_count": 72,
   "metadata": {},
   "outputs": [],
   "source": [
    "df.to_csv(\"data/All_Creatures.csv\")"
   ]
  },
  {
   "cell_type": "markdown",
   "metadata": {},
   "source": [
    "Opened the CSV in excel and manually deleted the columns i did not need."
   ]
  },
  {
   "cell_type": "code",
   "execution_count": 117,
   "metadata": {},
   "outputs": [],
   "source": [
    "df = pd.read_csv(\"Data/All_Creatures_Shortened.csv\",index_col=0)"
   ]
  },
  {
   "cell_type": "code",
   "execution_count": 122,
   "metadata": {},
   "outputs": [
    {
     "name": "stdout",
     "output_type": "stream",
     "text": [
      "['_id', 'constitution', 'strength', 'hp', 'language', 'will_save', 'charisma', 'speed.max', 'speed.land', 'perception', 'wisdom', 'skill', 'stealth', 'trait', 'id', 'npc', 'summary', 'ac', 'level', 'source_category', 'weakest_save', 'speed_raw', 'intelligence', 'reflex_save', 'strongest_save', 'dexterity', 'fortitude_save', 'source_group', 'size', 'spoilers', 'speed_markdown', 'trait_raw', 'name', 'alignment', 'hp_raw', 'rarity', 'sense', 'resistance.poison', 'vision', 'pfs', 'creature_family', 'resistance_raw', 'immunity_markdown', 'resistance.all', 'resistance.area', 'resistance.lawful', 'resistance.bludgeoning', 'resistance.sonic', 'resistance.piercing', 'resistance.precision', 'resistance.cold_iron', 'resistance.cold', 'resistance.electricity', 'resistance.mental', 'resistance.bleed', 'resistance.good', 'resistance.acid', 'resistance.negative', 'resistance.orichalcum', 'resistance.slashing', 'resistance.chaotic', 'resistance.fire', 'resistance.silver', 'resistance.evil', 'resistance.physical', 'resistance.splash', 'immunity', 'speed.fly', 'weakness_raw', 'weakness_markdown', 'weakness.cold_iron', 'weakness.good', 'weakness.cold', 'weakness.fire', 'speed.swim', 'speed.burrow', 'weakness.sonic', 'speed.climb', 'weakness.lawful', 'weakness.area', 'weakness.piercing', 'resistance.positive', 'hardness', 'hardness_raw', 'weakness.chaotic', 'weakness.splash', 'weakness.slashing', 'weakness.evil', 'weakness.silver', 'weakness.bludgeoning', 'school', 'weakness.mental', 'weakness.positive', 'weakness.orichalcum', 'weakness.electricity', 'weakness.physical', 'resistance.force', 'weakness.negative', 'weakness.acid', 'weakness.force', 'weakness.bleed']\n"
     ]
    }
   ],
   "source": [
    "print(list(df.columns))"
   ]
  },
  {
   "cell_type": "markdown",
   "metadata": {},
   "source": [
    "DF came with dummies already (kind of)"
   ]
  },
  {
   "cell_type": "code",
   "execution_count": 124,
   "metadata": {},
   "outputs": [
    {
     "data": {
      "text/plain": [
       "N               667\n",
       "NE              400\n",
       "CE              362\n",
       "LE              205\n",
       "CN              115\n",
       "LN               98\n",
       "CG               58\n",
       "NG               58\n",
       "LG               39\n",
       "No Alignment      2\n",
       "Any               2\n",
       "Name: alignment, dtype: int64"
      ]
     },
     "execution_count": 124,
     "metadata": {},
     "output_type": "execute_result"
    }
   ],
   "source": [
    "df[\"alignment\"].value_counts()"
   ]
  },
  {
   "cell_type": "code",
   "execution_count": 125,
   "metadata": {},
   "outputs": [
    {
     "data": {
      "text/html": [
       "<div>\n",
       "<style scoped>\n",
       "    .dataframe tbody tr th:only-of-type {\n",
       "        vertical-align: middle;\n",
       "    }\n",
       "\n",
       "    .dataframe tbody tr th {\n",
       "        vertical-align: top;\n",
       "    }\n",
       "\n",
       "    .dataframe thead th {\n",
       "        text-align: right;\n",
       "    }\n",
       "</style>\n",
       "<table border=\"1\" class=\"dataframe\">\n",
       "  <thead>\n",
       "    <tr style=\"text-align: right;\">\n",
       "      <th></th>\n",
       "      <th>_id</th>\n",
       "      <th>constitution</th>\n",
       "      <th>strength</th>\n",
       "      <th>hp</th>\n",
       "      <th>language</th>\n",
       "      <th>will_save</th>\n",
       "      <th>charisma</th>\n",
       "      <th>speed.max</th>\n",
       "      <th>speed.land</th>\n",
       "      <th>perception</th>\n",
       "      <th>...</th>\n",
       "      <th>weakness.mental</th>\n",
       "      <th>weakness.positive</th>\n",
       "      <th>weakness.orichalcum</th>\n",
       "      <th>weakness.electricity</th>\n",
       "      <th>weakness.physical</th>\n",
       "      <th>resistance.force</th>\n",
       "      <th>weakness.negative</th>\n",
       "      <th>weakness.acid</th>\n",
       "      <th>weakness.force</th>\n",
       "      <th>weakness.bleed</th>\n",
       "    </tr>\n",
       "  </thead>\n",
       "  <tbody>\n",
       "    <tr>\n",
       "      <th>1304</th>\n",
       "      <td>creature-758</td>\n",
       "      <td>2</td>\n",
       "      <td>2</td>\n",
       "      <td>22</td>\n",
       "      <td>['see Planar Incarnation']</td>\n",
       "      <td>7</td>\n",
       "      <td>2</td>\n",
       "      <td>25.0</td>\n",
       "      <td>25.0</td>\n",
       "      <td>7</td>\n",
       "      <td>...</td>\n",
       "      <td>NaN</td>\n",
       "      <td>NaN</td>\n",
       "      <td>NaN</td>\n",
       "      <td>NaN</td>\n",
       "      <td>NaN</td>\n",
       "      <td>NaN</td>\n",
       "      <td>NaN</td>\n",
       "      <td>NaN</td>\n",
       "      <td>NaN</td>\n",
       "      <td>NaN</td>\n",
       "    </tr>\n",
       "    <tr>\n",
       "      <th>1597</th>\n",
       "      <td>creature-383</td>\n",
       "      <td>3</td>\n",
       "      <td>-2</td>\n",
       "      <td>23</td>\n",
       "      <td>['one spoken by its creator (typically Common)']</td>\n",
       "      <td>6</td>\n",
       "      <td>0</td>\n",
       "      <td>20.0</td>\n",
       "      <td>20.0</td>\n",
       "      <td>8</td>\n",
       "      <td>...</td>\n",
       "      <td>NaN</td>\n",
       "      <td>NaN</td>\n",
       "      <td>NaN</td>\n",
       "      <td>NaN</td>\n",
       "      <td>NaN</td>\n",
       "      <td>NaN</td>\n",
       "      <td>NaN</td>\n",
       "      <td>NaN</td>\n",
       "      <td>NaN</td>\n",
       "      <td>NaN</td>\n",
       "    </tr>\n",
       "  </tbody>\n",
       "</table>\n",
       "<p>2 rows × 101 columns</p>\n",
       "</div>"
      ],
      "text/plain": [
       "               _id  constitution  strength  hp  \\\n",
       "1304  creature-758             2         2  22   \n",
       "1597  creature-383             3        -2  23   \n",
       "\n",
       "                                              language  will_save  charisma  \\\n",
       "1304                        ['see Planar Incarnation']          7         2   \n",
       "1597  ['one spoken by its creator (typically Common)']          6         0   \n",
       "\n",
       "      speed.max  speed.land  perception  ...  weakness.mental  \\\n",
       "1304       25.0        25.0           7  ...              NaN   \n",
       "1597       20.0        20.0           8  ...              NaN   \n",
       "\n",
       "     weakness.positive  weakness.orichalcum weakness.electricity  \\\n",
       "1304               NaN                  NaN                  NaN   \n",
       "1597               NaN                  NaN                  NaN   \n",
       "\n",
       "     weakness.physical  resistance.force weakness.negative  weakness.acid  \\\n",
       "1304               NaN               NaN               NaN            NaN   \n",
       "1597               NaN               NaN               NaN            NaN   \n",
       "\n",
       "      weakness.force weakness.bleed  \n",
       "1304             NaN            NaN  \n",
       "1597             NaN            NaN  \n",
       "\n",
       "[2 rows x 101 columns]"
      ]
     },
     "execution_count": 125,
     "metadata": {},
     "output_type": "execute_result"
    }
   ],
   "source": [
    "df.loc[df['alignment'] == \"Any\"]"
   ]
  },
  {
   "cell_type": "code",
   "execution_count": 128,
   "metadata": {},
   "outputs": [],
   "source": [
    "df = df[df.alignment != \"Any\"]"
   ]
  },
  {
   "cell_type": "code",
   "execution_count": 130,
   "metadata": {},
   "outputs": [],
   "source": [
    "df = df[df.alignment != \"No Alignment\"]"
   ]
  },
  {
   "cell_type": "code",
   "execution_count": 136,
   "metadata": {},
   "outputs": [
    {
     "data": {
      "text/plain": [
       "['_id', 'constitution', 'strength', 'hp', 'language', 'will_save', 'charisma', 'speed.max', 'speed.land', 'perception', 'wisdom', 'skill', 'stealth', 'trait', 'id', 'npc', 'summary', 'ac', 'level', 'source_category', 'weakest_save', 'speed_raw', 'intelligence', 'reflex_save', 'strongest_save', 'dexterity', 'fortitude_save', 'source_group', 'size', 'spoilers', 'speed_markdown', 'trait_raw', 'name', 'alignment', 'hp_raw', 'rarity', 'sense', 'resistance.poison', 'vision', 'pfs', 'creature_family', 'resistance_raw', 'immunity_markdown', 'resistance.all', 'resistance.area', 'resistance.lawful', 'resistance.bludgeoning', 'resistance.sonic', 'resistance.piercing', 'resistance.precision', 'resistance.cold_iron', 'resistance.cold', 'resistance.electricity', 'resistance.mental', 'resistance.bleed', 'resistance.good', 'resistance.acid', 'resistance.negative', 'resistance.orichalcum', 'resistance.slashing', 'resistance.chaotic', 'resistance.fire', 'resistance.silver', 'resistance.evil', 'resistance.physical', 'resistance.splash', 'immunity', 'speed.fly', 'weakness_raw', 'weakness_markdown', 'weakness.cold_iron', 'weakness.good', 'weakness.cold', 'weakness.fire', 'speed.swim', 'speed.burrow', 'weakness.sonic', 'speed.climb', 'weakness.lawful', 'weakness.area', 'weakness.piercing', 'resistance.positive', 'hardness', 'hardness_raw', 'weakness.chaotic', 'weakness.splash', 'weakness.slashing', 'weakness.evil', 'weakness.silver', 'weakness.bludgeoning', 'school', 'weakness.mental', 'weakness.positive', 'weakness.orichalcum', 'weakness.electricity', 'weakness.physical', 'resistance.force', 'weakness.negative', 'weakness.acid', 'weakness.force', 'weakness.bleed']"
      ]
     },
     "execution_count": 136,
     "metadata": {},
     "output_type": "execute_result"
    }
   ],
   "source": [
    "list(df.columns)"
   ]
  },
  {
   "cell_type": "code",
   "execution_count": 137,
   "metadata": {},
   "outputs": [],
   "source": [
    "df = df.drop(columns = [\"_id\"])"
   ]
  },
  {
   "cell_type": "code",
   "execution_count": 139,
   "metadata": {},
   "outputs": [
    {
     "data": {
      "text/plain": [
       "['constitution', 'strength', 'hp', 'language', 'will_save', 'charisma', 'speed.max', 'speed.land', 'perception', 'wisdom', 'skill', 'stealth', 'trait', 'id', 'npc', 'summary', 'ac', 'level', 'source_category', 'weakest_save', 'speed_raw', 'intelligence', 'reflex_save', 'strongest_save', 'dexterity', 'fortitude_save', 'source_group', 'size', 'spoilers', 'speed_markdown', 'trait_raw', 'name', 'alignment', 'hp_raw', 'rarity', 'sense', 'resistance.poison', 'vision', 'pfs', 'creature_family', 'resistance_raw', 'immunity_markdown', 'resistance.all', 'resistance.area', 'resistance.lawful', 'resistance.bludgeoning', 'resistance.sonic', 'resistance.piercing', 'resistance.precision', 'resistance.cold_iron', 'resistance.cold', 'resistance.electricity', 'resistance.mental', 'resistance.bleed', 'resistance.good', 'resistance.acid', 'resistance.negative', 'resistance.orichalcum', 'resistance.slashing', 'resistance.chaotic', 'resistance.fire', 'resistance.silver', 'resistance.evil', 'resistance.physical', 'resistance.splash', 'immunity', 'speed.fly', 'weakness_raw', 'weakness_markdown', 'weakness.cold_iron', 'weakness.good', 'weakness.cold', 'weakness.fire', 'speed.swim', 'speed.burrow', 'weakness.sonic', 'speed.climb', 'weakness.lawful', 'weakness.area', 'weakness.piercing', 'resistance.positive', 'hardness', 'hardness_raw', 'weakness.chaotic', 'weakness.splash', 'weakness.slashing', 'weakness.evil', 'weakness.silver', 'weakness.bludgeoning', 'school', 'weakness.mental', 'weakness.positive', 'weakness.orichalcum', 'weakness.electricity', 'weakness.physical', 'resistance.force', 'weakness.negative', 'weakness.acid', 'weakness.force', 'weakness.bleed']"
      ]
     },
     "execution_count": 139,
     "metadata": {},
     "output_type": "execute_result"
    }
   ],
   "source": [
    "list(df.columns)"
   ]
  },
  {
   "cell_type": "code",
   "execution_count": 138,
   "metadata": {},
   "outputs": [
    {
     "data": {
      "text/plain": [
       "Series([], dtype: int64)"
      ]
     },
     "execution_count": 138,
     "metadata": {},
     "output_type": "execute_result"
    }
   ],
   "source": [
    "df.value_counts()"
   ]
  },
  {
   "cell_type": "code",
   "execution_count": 142,
   "metadata": {},
   "outputs": [],
   "source": [
    "df = df[['name', 'alignment', 'constitution', 'strength', 'hp', 'language', 'will_save', 'charisma', 'speed.max', 'speed.land', 'perception', 'wisdom'\n",
    "         , 'skill', 'stealth', 'trait', 'id', 'npc', 'summary', 'ac', 'level', 'source_category', 'weakest_save', 'speed_raw', 'intelligence'\n",
    "         , 'reflex_save', 'strongest_save', 'dexterity', 'fortitude_save', 'source_group', 'size', 'spoilers', 'speed_markdown', 'trait_raw'\n",
    "         , 'hp_raw', 'rarity', 'sense', 'resistance.poison', 'vision', 'pfs', 'creature_family', 'resistance_raw'\n",
    "         , 'immunity_markdown', 'resistance.all', 'resistance.area', 'resistance.lawful', 'resistance.bludgeoning', 'resistance.sonic'\n",
    "         , 'resistance.piercing', 'resistance.precision', 'resistance.cold_iron', 'resistance.cold', 'resistance.electricity', 'resistance.mental'\n",
    "         , 'resistance.bleed', 'resistance.good', 'resistance.acid', 'resistance.negative', 'resistance.orichalcum', 'resistance.slashing'\n",
    "         , 'resistance.chaotic', 'resistance.fire', 'resistance.silver', 'resistance.evil', 'resistance.physical', 'resistance.splash', 'immunity'\n",
    "         , 'speed.fly', 'weakness_raw', 'weakness_markdown', 'weakness.cold_iron', 'weakness.good', 'weakness.cold', 'weakness.fire', 'speed.swim'\n",
    "         , 'speed.burrow', 'weakness.sonic', 'speed.climb', 'weakness.lawful', 'weakness.area', 'weakness.piercing', 'resistance.positive'\n",
    "         , 'hardness', 'hardness_raw', 'weakness.chaotic', 'weakness.splash', 'weakness.slashing', 'weakness.evil', 'weakness.silver'\n",
    "         , 'weakness.bludgeoning', 'school', 'weakness.mental', 'weakness.positive', 'weakness.orichalcum', 'weakness.electricity'\n",
    "         , 'weakness.physical', 'resistance.force', 'weakness.negative', 'weakness.acid', 'weakness.force', 'weakness.bleed']]"
   ]
  },
  {
   "cell_type": "code",
   "execution_count": null,
   "metadata": {},
   "outputs": [],
   "source": [
    "['language', 'will_save', 'speed.max', 'speed.land',  \n",
    "         , 'skill', 'stealth', 'id', 'summary', 'source_category', 'weakest_save', \n",
    "         , 'reflex_save', 'strongest_save', 'fortitude_save', 'source_group', 'spoilers', 'speed_markdown', 'trait_raw'\n",
    "         , 'hp_raw', 'resistance.poison', 'vision', 'pfs', 'resistance_raw'\n",
    "         , 'immunity_markdown', 'resistance.all', 'resistance.area', 'resistance.lawful', 'resistance.bludgeoning', 'resistance.sonic'\n",
    "         , 'resistance.piercing', 'resistance.precision', 'resistance.cold_iron', 'resistance.cold', 'resistance.electricity', 'resistance.mental'\n",
    "         , 'resistance.bleed', 'resistance.good', 'resistance.acid', 'resistance.negative', 'resistance.orichalcum', 'resistance.slashing'\n",
    "         , 'resistance.chaotic', 'resistance.fire', 'resistance.silver', 'resistance.evil', 'resistance.physical', 'resistance.splash', 'immunity'\n",
    "         , 'speed.fly', 'weakness_raw', 'weakness_markdown', 'weakness.cold_iron', 'weakness.good', 'weakness.cold', 'weakness.fire', 'speed.swim'\n",
    "         , 'speed.burrow', 'weakness.sonic', 'speed.climb', 'weakness.lawful', 'weakness.area', 'weakness.piercing', 'resistance.positive'\n",
    "         , 'hardness', 'hardness_raw', 'weakness.chaotic', 'weakness.splash', 'weakness.slashing', 'weakness.evil', 'weakness.silver'\n",
    "         , 'weakness.bludgeoning', 'school', 'weakness.mental', 'weakness.positive', 'weakness.orichalcum', 'weakness.electricity'\n",
    "         , 'weakness.physical', 'resistance.force', 'weakness.negative', 'weakness.acid', 'weakness.force', 'weakness.bleed']"
   ]
  },
  {
   "cell_type": "code",
   "execution_count": 144,
   "metadata": {},
   "outputs": [],
   "source": [
    "df_short = df[['name', 'alignment', 'trait', 'strength', 'dexterity', 'constitution', 'intelligence', 'charisma', 'wisdom', 'hp', 'ac', 'level', 'speed_raw', 'npc'\n",
    "               , 'rarity', 'sense', 'size', 'creature_family', 'perception']]"
   ]
  },
  {
   "cell_type": "code",
   "execution_count": 146,
   "metadata": {},
   "outputs": [
    {
     "name": "stdout",
     "output_type": "stream",
     "text": [
      "<class 'pandas.core.frame.DataFrame'>\n",
      "Int64Index: 2002 entries, 0 to 2005\n",
      "Data columns (total 19 columns):\n",
      " #   Column           Non-Null Count  Dtype \n",
      "---  ------           --------------  ----- \n",
      " 0   name             2002 non-null   object\n",
      " 1   alignment        2002 non-null   object\n",
      " 2   trait            2002 non-null   object\n",
      " 3   strength         2002 non-null   int64 \n",
      " 4   dexterity        2002 non-null   int64 \n",
      " 5   constitution     2002 non-null   int64 \n",
      " 6   intelligence     2002 non-null   int64 \n",
      " 7   charisma         2002 non-null   int64 \n",
      " 8   wisdom           2002 non-null   int64 \n",
      " 9   hp               2002 non-null   int64 \n",
      " 10  ac               2002 non-null   int64 \n",
      " 11  level            2002 non-null   int64 \n",
      " 12  speed_raw        2000 non-null   object\n",
      " 13  npc              2002 non-null   bool  \n",
      " 14  rarity           2002 non-null   object\n",
      " 15  sense            1740 non-null   object\n",
      " 16  size             2002 non-null   object\n",
      " 17  creature_family  1119 non-null   object\n",
      " 18  perception       2002 non-null   int64 \n",
      "dtypes: bool(1), int64(10), object(8)\n",
      "memory usage: 299.1+ KB\n"
     ]
    }
   ],
   "source": [
    "df_short.info()"
   ]
  },
  {
   "cell_type": "code",
   "execution_count": 149,
   "metadata": {},
   "outputs": [
    {
     "data": {
      "text/html": [
       "<div>\n",
       "<style scoped>\n",
       "    .dataframe tbody tr th:only-of-type {\n",
       "        vertical-align: middle;\n",
       "    }\n",
       "\n",
       "    .dataframe tbody tr th {\n",
       "        vertical-align: top;\n",
       "    }\n",
       "\n",
       "    .dataframe thead th {\n",
       "        text-align: right;\n",
       "    }\n",
       "</style>\n",
       "<table border=\"1\" class=\"dataframe\">\n",
       "  <thead>\n",
       "    <tr style=\"text-align: right;\">\n",
       "      <th></th>\n",
       "      <th>name</th>\n",
       "      <th>alignment</th>\n",
       "      <th>trait</th>\n",
       "      <th>strength</th>\n",
       "      <th>dexterity</th>\n",
       "      <th>constitution</th>\n",
       "      <th>intelligence</th>\n",
       "      <th>charisma</th>\n",
       "      <th>wisdom</th>\n",
       "      <th>hp</th>\n",
       "      <th>ac</th>\n",
       "      <th>level</th>\n",
       "      <th>speed_raw</th>\n",
       "      <th>npc</th>\n",
       "      <th>rarity</th>\n",
       "      <th>sense</th>\n",
       "      <th>size</th>\n",
       "      <th>creature_family</th>\n",
       "      <th>perception</th>\n",
       "    </tr>\n",
       "  </thead>\n",
       "  <tbody>\n",
       "    <tr>\n",
       "      <th>0</th>\n",
       "      <td>\"Lucky\" Lanks</td>\n",
       "      <td>LE</td>\n",
       "      <td>['Halfling', 'Humanoid', 'Unique', 'LE', 'Small']</td>\n",
       "      <td>2</td>\n",
       "      <td>4</td>\n",
       "      <td>0</td>\n",
       "      <td>2</td>\n",
       "      <td>4</td>\n",
       "      <td>0</td>\n",
       "      <td>70</td>\n",
       "      <td>20</td>\n",
       "      <td>5</td>\n",
       "      <td>25 feet</td>\n",
       "      <td>True</td>\n",
       "      <td>unique</td>\n",
       "      <td>None</td>\n",
       "      <td>['Small']</td>\n",
       "      <td>None</td>\n",
       "      <td>11</td>\n",
       "    </tr>\n",
       "    <tr>\n",
       "      <th>1</th>\n",
       "      <td>Aapoph Serpentfolk</td>\n",
       "      <td>CE</td>\n",
       "      <td>['Humanoid', 'Mutant', 'Serpentfolk', 'Uncommo...</td>\n",
       "      <td>4</td>\n",
       "      <td>2</td>\n",
       "      <td>3</td>\n",
       "      <td>-3</td>\n",
       "      <td>-1</td>\n",
       "      <td>1</td>\n",
       "      <td>60</td>\n",
       "      <td>18</td>\n",
       "      <td>3</td>\n",
       "      <td>25 feet</td>\n",
       "      <td>False</td>\n",
       "      <td>uncommon</td>\n",
       "      <td>darkvision ,  scent (imprecise) 30 feet</td>\n",
       "      <td>['Medium']</td>\n",
       "      <td>Serpentfolk</td>\n",
       "      <td>8</td>\n",
       "    </tr>\n",
       "    <tr>\n",
       "      <th>2</th>\n",
       "      <td>Aasimar Redeemer</td>\n",
       "      <td>NG</td>\n",
       "      <td>['Aasimar', 'Human', 'Humanoid', 'NG', 'Medium']</td>\n",
       "      <td>4</td>\n",
       "      <td>1</td>\n",
       "      <td>3</td>\n",
       "      <td>0</td>\n",
       "      <td>3</td>\n",
       "      <td>2</td>\n",
       "      <td>73</td>\n",
       "      <td>23</td>\n",
       "      <td>5</td>\n",
       "      <td>20 feet</td>\n",
       "      <td>False</td>\n",
       "      <td>common</td>\n",
       "      <td>darkvision</td>\n",
       "      <td>['Medium']</td>\n",
       "      <td>Planar Scion</td>\n",
       "      <td>11</td>\n",
       "    </tr>\n",
       "    <tr>\n",
       "      <th>3</th>\n",
       "      <td>Abandoned Zealot</td>\n",
       "      <td>CE</td>\n",
       "      <td>['Incorporeal', 'Spirit', 'Undead', 'CE', 'Med...</td>\n",
       "      <td>-5</td>\n",
       "      <td>4</td>\n",
       "      <td>0</td>\n",
       "      <td>2</td>\n",
       "      <td>4</td>\n",
       "      <td>2</td>\n",
       "      <td>75</td>\n",
       "      <td>22</td>\n",
       "      <td>6</td>\n",
       "      <td>fly 40 feet</td>\n",
       "      <td>False</td>\n",
       "      <td>common</td>\n",
       "      <td>darkvision ,  lifesense  60 feet, sense apostate</td>\n",
       "      <td>['Medium']</td>\n",
       "      <td>None</td>\n",
       "      <td>14</td>\n",
       "    </tr>\n",
       "    <tr>\n",
       "      <th>4</th>\n",
       "      <td>Abberton Ruffian</td>\n",
       "      <td>NE</td>\n",
       "      <td>['Human', 'Humanoid', 'NE', 'Medium']</td>\n",
       "      <td>3</td>\n",
       "      <td>1</td>\n",
       "      <td>2</td>\n",
       "      <td>-1</td>\n",
       "      <td>1</td>\n",
       "      <td>2</td>\n",
       "      <td>8</td>\n",
       "      <td>13</td>\n",
       "      <td>-1</td>\n",
       "      <td>25 feet</td>\n",
       "      <td>True</td>\n",
       "      <td>common</td>\n",
       "      <td>None</td>\n",
       "      <td>['Medium']</td>\n",
       "      <td>None</td>\n",
       "      <td>4</td>\n",
       "    </tr>\n",
       "    <tr>\n",
       "      <th>...</th>\n",
       "      <td>...</td>\n",
       "      <td>...</td>\n",
       "      <td>...</td>\n",
       "      <td>...</td>\n",
       "      <td>...</td>\n",
       "      <td>...</td>\n",
       "      <td>...</td>\n",
       "      <td>...</td>\n",
       "      <td>...</td>\n",
       "      <td>...</td>\n",
       "      <td>...</td>\n",
       "      <td>...</td>\n",
       "      <td>...</td>\n",
       "      <td>...</td>\n",
       "      <td>...</td>\n",
       "      <td>...</td>\n",
       "      <td>...</td>\n",
       "      <td>...</td>\n",
       "      <td>...</td>\n",
       "    </tr>\n",
       "    <tr>\n",
       "      <th>2001</th>\n",
       "      <td>Zrukbat</td>\n",
       "      <td>CN</td>\n",
       "      <td>['Fey', 'CN', 'Small']</td>\n",
       "      <td>3</td>\n",
       "      <td>4</td>\n",
       "      <td>3</td>\n",
       "      <td>1</td>\n",
       "      <td>-1</td>\n",
       "      <td>-1</td>\n",
       "      <td>30</td>\n",
       "      <td>18</td>\n",
       "      <td>2</td>\n",
       "      <td>20 feet, climb 20 feet, fly 20 feet</td>\n",
       "      <td>False</td>\n",
       "      <td>common</td>\n",
       "      <td>darkvision</td>\n",
       "      <td>['Small']</td>\n",
       "      <td>None</td>\n",
       "      <td>7</td>\n",
       "    </tr>\n",
       "    <tr>\n",
       "      <th>2002</th>\n",
       "      <td>Zuferian</td>\n",
       "      <td>NE</td>\n",
       "      <td>['Human', 'Humanoid', 'Unique', 'NE', 'Medium']</td>\n",
       "      <td>2</td>\n",
       "      <td>7</td>\n",
       "      <td>4</td>\n",
       "      <td>8</td>\n",
       "      <td>0</td>\n",
       "      <td>7</td>\n",
       "      <td>265</td>\n",
       "      <td>36</td>\n",
       "      <td>15</td>\n",
       "      <td>25 feet</td>\n",
       "      <td>True</td>\n",
       "      <td>unique</td>\n",
       "      <td>None</td>\n",
       "      <td>['Medium']</td>\n",
       "      <td>None</td>\n",
       "      <td>26</td>\n",
       "    </tr>\n",
       "    <tr>\n",
       "      <th>2003</th>\n",
       "      <td>Zuipnyrn</td>\n",
       "      <td>N</td>\n",
       "      <td>['Aberration', 'Rare', 'N', 'Small']</td>\n",
       "      <td>1</td>\n",
       "      <td>3</td>\n",
       "      <td>3</td>\n",
       "      <td>-2</td>\n",
       "      <td>5</td>\n",
       "      <td>2</td>\n",
       "      <td>35</td>\n",
       "      <td>20</td>\n",
       "      <td>3</td>\n",
       "      <td>20 feet, climb 10 feet</td>\n",
       "      <td>False</td>\n",
       "      <td>rare</td>\n",
       "      <td>greater darkvision</td>\n",
       "      <td>['Small']</td>\n",
       "      <td>None</td>\n",
       "      <td>9</td>\n",
       "    </tr>\n",
       "    <tr>\n",
       "      <th>2004</th>\n",
       "      <td>Zuishin</td>\n",
       "      <td>LG</td>\n",
       "      <td>['Kami', 'Spirit', 'LG', 'Medium']</td>\n",
       "      <td>6</td>\n",
       "      <td>7</td>\n",
       "      <td>5</td>\n",
       "      <td>1</td>\n",
       "      <td>3</td>\n",
       "      <td>5</td>\n",
       "      <td>200</td>\n",
       "      <td>30</td>\n",
       "      <td>10</td>\n",
       "      <td>fly 25 feet</td>\n",
       "      <td>False</td>\n",
       "      <td>common</td>\n",
       "      <td>darkvision</td>\n",
       "      <td>['Medium']</td>\n",
       "      <td>Kami</td>\n",
       "      <td>21</td>\n",
       "    </tr>\n",
       "    <tr>\n",
       "      <th>2005</th>\n",
       "      <td>Zyss Serpentfolk</td>\n",
       "      <td>NE</td>\n",
       "      <td>['Humanoid', 'Serpentfolk', 'Uncommon', 'NE', ...</td>\n",
       "      <td>-1</td>\n",
       "      <td>4</td>\n",
       "      <td>2</td>\n",
       "      <td>4</td>\n",
       "      <td>3</td>\n",
       "      <td>2</td>\n",
       "      <td>25</td>\n",
       "      <td>18</td>\n",
       "      <td>2</td>\n",
       "      <td>25 feet</td>\n",
       "      <td>False</td>\n",
       "      <td>uncommon</td>\n",
       "      <td>darkvision ,  scent (imprecise) 30 feet</td>\n",
       "      <td>['Medium']</td>\n",
       "      <td>Serpentfolk</td>\n",
       "      <td>8</td>\n",
       "    </tr>\n",
       "  </tbody>\n",
       "</table>\n",
       "<p>2002 rows × 19 columns</p>\n",
       "</div>"
      ],
      "text/plain": [
       "                    name alignment  \\\n",
       "0          \"Lucky\" Lanks        LE   \n",
       "1     Aapoph Serpentfolk        CE   \n",
       "2       Aasimar Redeemer        NG   \n",
       "3       Abandoned Zealot        CE   \n",
       "4       Abberton Ruffian        NE   \n",
       "...                  ...       ...   \n",
       "2001             Zrukbat        CN   \n",
       "2002            Zuferian        NE   \n",
       "2003            Zuipnyrn         N   \n",
       "2004             Zuishin        LG   \n",
       "2005    Zyss Serpentfolk        NE   \n",
       "\n",
       "                                                  trait  strength  dexterity  \\\n",
       "0     ['Halfling', 'Humanoid', 'Unique', 'LE', 'Small']         2          4   \n",
       "1     ['Humanoid', 'Mutant', 'Serpentfolk', 'Uncommo...         4          2   \n",
       "2      ['Aasimar', 'Human', 'Humanoid', 'NG', 'Medium']         4          1   \n",
       "3     ['Incorporeal', 'Spirit', 'Undead', 'CE', 'Med...        -5          4   \n",
       "4                 ['Human', 'Humanoid', 'NE', 'Medium']         3          1   \n",
       "...                                                 ...       ...        ...   \n",
       "2001                             ['Fey', 'CN', 'Small']         3          4   \n",
       "2002    ['Human', 'Humanoid', 'Unique', 'NE', 'Medium']         2          7   \n",
       "2003               ['Aberration', 'Rare', 'N', 'Small']         1          3   \n",
       "2004                 ['Kami', 'Spirit', 'LG', 'Medium']         6          7   \n",
       "2005  ['Humanoid', 'Serpentfolk', 'Uncommon', 'NE', ...        -1          4   \n",
       "\n",
       "      constitution  intelligence  charisma  wisdom   hp  ac  level  \\\n",
       "0                0             2         4       0   70  20      5   \n",
       "1                3            -3        -1       1   60  18      3   \n",
       "2                3             0         3       2   73  23      5   \n",
       "3                0             2         4       2   75  22      6   \n",
       "4                2            -1         1       2    8  13     -1   \n",
       "...            ...           ...       ...     ...  ...  ..    ...   \n",
       "2001             3             1        -1      -1   30  18      2   \n",
       "2002             4             8         0       7  265  36     15   \n",
       "2003             3            -2         5       2   35  20      3   \n",
       "2004             5             1         3       5  200  30     10   \n",
       "2005             2             4         3       2   25  18      2   \n",
       "\n",
       "                                speed_raw    npc    rarity  \\\n",
       "0                                 25 feet   True    unique   \n",
       "1                                 25 feet  False  uncommon   \n",
       "2                                 20 feet  False    common   \n",
       "3                             fly 40 feet  False    common   \n",
       "4                                 25 feet   True    common   \n",
       "...                                   ...    ...       ...   \n",
       "2001  20 feet, climb 20 feet, fly 20 feet  False    common   \n",
       "2002                              25 feet   True    unique   \n",
       "2003               20 feet, climb 10 feet  False      rare   \n",
       "2004                          fly 25 feet  False    common   \n",
       "2005                              25 feet  False  uncommon   \n",
       "\n",
       "                                                  sense        size  \\\n",
       "0                                                  None   ['Small']   \n",
       "1              darkvision ,  scent (imprecise) 30 feet   ['Medium']   \n",
       "2                                            darkvision  ['Medium']   \n",
       "3      darkvision ,  lifesense  60 feet, sense apostate  ['Medium']   \n",
       "4                                                  None  ['Medium']   \n",
       "...                                                 ...         ...   \n",
       "2001                                        darkvision    ['Small']   \n",
       "2002                                               None  ['Medium']   \n",
       "2003                                 greater darkvision   ['Small']   \n",
       "2004                                        darkvision   ['Medium']   \n",
       "2005           darkvision ,  scent (imprecise) 30 feet   ['Medium']   \n",
       "\n",
       "     creature_family  perception  \n",
       "0               None          11  \n",
       "1        Serpentfolk           8  \n",
       "2       Planar Scion          11  \n",
       "3               None          14  \n",
       "4               None           4  \n",
       "...              ...         ...  \n",
       "2001            None           7  \n",
       "2002            None          26  \n",
       "2003            None           9  \n",
       "2004            Kami          21  \n",
       "2005     Serpentfolk           8  \n",
       "\n",
       "[2002 rows x 19 columns]"
      ]
     },
     "execution_count": 149,
     "metadata": {},
     "output_type": "execute_result"
    }
   ],
   "source": [
    "df_short.fillna(\"None\")"
   ]
  },
  {
   "cell_type": "code",
   "execution_count": 152,
   "metadata": {},
   "outputs": [],
   "source": [
    "df_short.to_csv(\"data/All_creatures_clean.csv\",index = False)"
   ]
  },
  {
   "cell_type": "code",
   "execution_count": null,
   "metadata": {},
   "outputs": [],
   "source": []
  }
 ],
 "metadata": {
  "kernelspec": {
   "display_name": "Python 3",
   "language": "python",
   "name": "python3"
  },
  "language_info": {
   "codemirror_mode": {
    "name": "ipython",
    "version": 3
   },
   "file_extension": ".py",
   "mimetype": "text/x-python",
   "name": "python",
   "nbconvert_exporter": "python",
   "pygments_lexer": "ipython3",
   "version": "3.8.5"
  },
  "toc-showmarkdowntxt": false
 },
 "nbformat": 4,
 "nbformat_minor": 4
}
