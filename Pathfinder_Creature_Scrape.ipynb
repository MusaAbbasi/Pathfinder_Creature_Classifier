{
 "cells": [
  {
   "cell_type": "code",
   "execution_count": 1,
   "metadata": {
    "scrolled": true,
    "tags": []
   },
   "outputs": [
    {
     "name": "stdout",
     "output_type": "stream",
     "text": [
      "Pretty printing has been turned OFF\n"
     ]
    }
   ],
   "source": [
    "%pprint"
   ]
  },
  {
   "cell_type": "code",
   "execution_count": 2,
   "metadata": {
    "scrolled": true
   },
   "outputs": [],
   "source": [
    "import json\n",
    "\n",
    "import pandas as pd\n",
    "import requests\n",
    "from bs4 import BeautifulSoup"
   ]
  },
  {
   "cell_type": "markdown",
   "metadata": {
    "jp-MarkdownHeadingCollapsed": true,
    "tags": []
   },
   "source": [
    "#### Scraped a JSON from the datasource by entering Inspector(Q) > Network > Response > and saving it as a JSON with VS Code. Then i editted out the parts of the JSON that made converting to a table impossible.\n",
    "\n",
    "Note I had to edit my browser to allow network responses of 6mb as the default is1mb"
   ]
  },
  {
   "cell_type": "code",
   "execution_count": null,
   "metadata": {
    "scrolled": true
   },
   "outputs": [],
   "source": [
    "with open('data/pathfinder_all_creatures.json','r', encoding='utf-8') as f:\n",
    "    data = json.loads(f.read())"
   ]
  },
  {
   "cell_type": "code",
   "execution_count": null,
   "metadata": {
    "scrolled": true
   },
   "outputs": [],
   "source": [
    "df = pd.json_normalize(data)"
   ]
  },
  {
   "cell_type": "code",
   "execution_count": null,
   "metadata": {
    "scrolled": true
   },
   "outputs": [],
   "source": [
    "columns_list = list(df.columns)"
   ]
  },
  {
   "cell_type": "code",
   "execution_count": null,
   "metadata": {
    "scrolled": true
   },
   "outputs": [],
   "source": [
    "columns_list"
   ]
  },
  {
   "cell_type": "code",
   "execution_count": null,
   "metadata": {
    "scrolled": true
   },
   "outputs": [],
   "source": [
    "df.to_csv(\"data/All_Creatures.csv\")"
   ]
  },
  {
   "cell_type": "markdown",
   "metadata": {
    "tags": []
   },
   "source": [
    "#### Opened the CSV in excel and manually deleted the columns i did not need."
   ]
  },
  {
   "cell_type": "code",
   "execution_count": 3,
   "metadata": {
    "scrolled": true
   },
   "outputs": [],
   "source": [
    "df = pd.read_csv(\"Data/All_Creatures_Shortened.csv\",index_col=0)"
   ]
  },
  {
   "cell_type": "code",
   "execution_count": 4,
   "metadata": {
    "scrolled": true
   },
   "outputs": [
    {
     "name": "stdout",
     "output_type": "stream",
     "text": [
      "['_id', 'constitution', 'strength', 'hp', 'language', 'will_save', 'charisma', 'speed.max', 'speed.land', 'perception', 'wisdom', 'skill', 'stealth', 'trait', 'id', 'npc', 'summary', 'ac', 'level', 'source_category', 'weakest_save', 'speed_raw', 'intelligence', 'reflex_save', 'strongest_save', 'dexterity', 'fortitude_save', 'source_group', 'size', 'spoilers', 'speed_markdown', 'trait_raw', 'name', 'alignment', 'hp_raw', 'rarity', 'sense', 'resistance.poison', 'vision', 'pfs', 'creature_family', 'resistance_raw', 'immunity_markdown', 'resistance.all', 'resistance.area', 'resistance.lawful', 'resistance.bludgeoning', 'resistance.sonic', 'resistance.piercing', 'resistance.precision', 'resistance.cold_iron', 'resistance.cold', 'resistance.electricity', 'resistance.mental', 'resistance.bleed', 'resistance.good', 'resistance.acid', 'resistance.negative', 'resistance.orichalcum', 'resistance.slashing', 'resistance.chaotic', 'resistance.fire', 'resistance.silver', 'resistance.evil', 'resistance.physical', 'resistance.splash', 'immunity', 'speed.fly', 'weakness_raw', 'weakness_markdown', 'weakness.cold_iron', 'weakness.good', 'weakness.cold', 'weakness.fire', 'speed.swim', 'speed.burrow', 'weakness.sonic', 'speed.climb', 'weakness.lawful', 'weakness.area', 'weakness.piercing', 'resistance.positive', 'hardness', 'hardness_raw', 'weakness.chaotic', 'weakness.splash', 'weakness.slashing', 'weakness.evil', 'weakness.silver', 'weakness.bludgeoning', 'school', 'weakness.mental', 'weakness.positive', 'weakness.orichalcum', 'weakness.electricity', 'weakness.physical', 'resistance.force', 'weakness.negative', 'weakness.acid', 'weakness.force', 'weakness.bleed']\n"
     ]
    }
   ],
   "source": [
    "print(list(df.columns))"
   ]
  },
  {
   "cell_type": "markdown",
   "metadata": {},
   "source": [
    "DF came with dummies already (kind of)"
   ]
  },
  {
   "cell_type": "code",
   "execution_count": 5,
   "metadata": {
    "scrolled": true
   },
   "outputs": [
    {
     "data": {
      "text/plain": [
       "N               667\n",
       "NE              400\n",
       "CE              362\n",
       "LE              205\n",
       "CN              115\n",
       "LN               98\n",
       "CG               58\n",
       "NG               58\n",
       "LG               39\n",
       "Any               2\n",
       "No Alignment      2\n",
       "Name: alignment, dtype: int64"
      ]
     },
     "execution_count": 5,
     "metadata": {},
     "output_type": "execute_result"
    }
   ],
   "source": [
    "df[\"alignment\"].value_counts()"
   ]
  },
  {
   "cell_type": "markdown",
   "metadata": {
    "tags": []
   },
   "source": [
    "#### Remove the 4 creatures without set alignments"
   ]
  },
  {
   "cell_type": "code",
   "execution_count": 6,
   "metadata": {
    "scrolled": true
   },
   "outputs": [
    {
     "data": {
      "text/html": [
       "<div>\n",
       "<style scoped>\n",
       "    .dataframe tbody tr th:only-of-type {\n",
       "        vertical-align: middle;\n",
       "    }\n",
       "\n",
       "    .dataframe tbody tr th {\n",
       "        vertical-align: top;\n",
       "    }\n",
       "\n",
       "    .dataframe thead th {\n",
       "        text-align: right;\n",
       "    }\n",
       "</style>\n",
       "<table border=\"1\" class=\"dataframe\">\n",
       "  <thead>\n",
       "    <tr style=\"text-align: right;\">\n",
       "      <th></th>\n",
       "      <th>_id</th>\n",
       "      <th>constitution</th>\n",
       "      <th>strength</th>\n",
       "      <th>hp</th>\n",
       "      <th>language</th>\n",
       "      <th>will_save</th>\n",
       "      <th>charisma</th>\n",
       "      <th>speed.max</th>\n",
       "      <th>speed.land</th>\n",
       "      <th>perception</th>\n",
       "      <th>...</th>\n",
       "      <th>weakness.mental</th>\n",
       "      <th>weakness.positive</th>\n",
       "      <th>weakness.orichalcum</th>\n",
       "      <th>weakness.electricity</th>\n",
       "      <th>weakness.physical</th>\n",
       "      <th>resistance.force</th>\n",
       "      <th>weakness.negative</th>\n",
       "      <th>weakness.acid</th>\n",
       "      <th>weakness.force</th>\n",
       "      <th>weakness.bleed</th>\n",
       "    </tr>\n",
       "  </thead>\n",
       "  <tbody>\n",
       "    <tr>\n",
       "      <th>1304</th>\n",
       "      <td>creature-758</td>\n",
       "      <td>2</td>\n",
       "      <td>2</td>\n",
       "      <td>22</td>\n",
       "      <td>['see Planar Incarnation']</td>\n",
       "      <td>7</td>\n",
       "      <td>2</td>\n",
       "      <td>25.0</td>\n",
       "      <td>25.0</td>\n",
       "      <td>7</td>\n",
       "      <td>...</td>\n",
       "      <td>NaN</td>\n",
       "      <td>NaN</td>\n",
       "      <td>NaN</td>\n",
       "      <td>NaN</td>\n",
       "      <td>NaN</td>\n",
       "      <td>NaN</td>\n",
       "      <td>NaN</td>\n",
       "      <td>NaN</td>\n",
       "      <td>NaN</td>\n",
       "      <td>NaN</td>\n",
       "    </tr>\n",
       "    <tr>\n",
       "      <th>1597</th>\n",
       "      <td>creature-383</td>\n",
       "      <td>3</td>\n",
       "      <td>-2</td>\n",
       "      <td>23</td>\n",
       "      <td>['one spoken by its creator (typically Common)']</td>\n",
       "      <td>6</td>\n",
       "      <td>0</td>\n",
       "      <td>20.0</td>\n",
       "      <td>20.0</td>\n",
       "      <td>8</td>\n",
       "      <td>...</td>\n",
       "      <td>NaN</td>\n",
       "      <td>NaN</td>\n",
       "      <td>NaN</td>\n",
       "      <td>NaN</td>\n",
       "      <td>NaN</td>\n",
       "      <td>NaN</td>\n",
       "      <td>NaN</td>\n",
       "      <td>NaN</td>\n",
       "      <td>NaN</td>\n",
       "      <td>NaN</td>\n",
       "    </tr>\n",
       "  </tbody>\n",
       "</table>\n",
       "<p>2 rows × 101 columns</p>\n",
       "</div>"
      ],
      "text/plain": [
       "               _id  constitution  strength  hp  \\\n",
       "1304  creature-758             2         2  22   \n",
       "1597  creature-383             3        -2  23   \n",
       "\n",
       "                                              language  will_save  charisma  \\\n",
       "1304                        ['see Planar Incarnation']          7         2   \n",
       "1597  ['one spoken by its creator (typically Common)']          6         0   \n",
       "\n",
       "      speed.max  speed.land  perception  ...  weakness.mental  \\\n",
       "1304       25.0        25.0           7  ...              NaN   \n",
       "1597       20.0        20.0           8  ...              NaN   \n",
       "\n",
       "     weakness.positive  weakness.orichalcum weakness.electricity  \\\n",
       "1304               NaN                  NaN                  NaN   \n",
       "1597               NaN                  NaN                  NaN   \n",
       "\n",
       "     weakness.physical  resistance.force weakness.negative  weakness.acid  \\\n",
       "1304               NaN               NaN               NaN            NaN   \n",
       "1597               NaN               NaN               NaN            NaN   \n",
       "\n",
       "      weakness.force weakness.bleed  \n",
       "1304             NaN            NaN  \n",
       "1597             NaN            NaN  \n",
       "\n",
       "[2 rows x 101 columns]"
      ]
     },
     "execution_count": 6,
     "metadata": {},
     "output_type": "execute_result"
    }
   ],
   "source": [
    "df.loc[df['alignment'] == \"Any\"]"
   ]
  },
  {
   "cell_type": "code",
   "execution_count": 7,
   "metadata": {
    "scrolled": true
   },
   "outputs": [],
   "source": [
    "df = df[df.alignment != \"Any\"]"
   ]
  },
  {
   "cell_type": "code",
   "execution_count": 8,
   "metadata": {
    "scrolled": true
   },
   "outputs": [],
   "source": [
    "df = df[df.alignment != \"No Alignment\"]"
   ]
  },
  {
   "cell_type": "markdown",
   "metadata": {},
   "source": [
    "#### Further sorting the columns"
   ]
  },
  {
   "cell_type": "code",
   "execution_count": 9,
   "metadata": {
    "scrolled": true
   },
   "outputs": [],
   "source": [
    "df_short = df[['_id', 'name', 'alignment', 'hp', 'ac', 'level'\n",
    "               , 'strength', 'dexterity', 'constitution'\n",
    "               , 'intelligence', 'wisdom', 'charisma'\n",
    "               , 'will_save', 'reflex_save', 'fortitude_save'\n",
    "               , 'perception', 'skill'\n",
    "               #skill needs to be unpacked as it is a list of keys and values\n",
    "               , 'npc', 'size'\n",
    "               , 'speed.max'\n",
    "               , 'trait_raw' \n",
    "               #Rarity is also included in trait_raw for some values, must drop those values from it then dummy\n",
    "               , 'rarity', 'vision'\n",
    "               \n",
    "               , 'resistance.all', 'resistance.poison'\n",
    "               , 'resistance.area', 'resistance.lawful'\n",
    "               , 'resistance.bludgeoning', 'resistance.sonic'\n",
    "               , 'resistance.piercing', 'resistance.precision'\n",
    "               , 'resistance.cold_iron', 'resistance.cold'\n",
    "               , 'resistance.electricity', 'resistance.mental'\n",
    "               , 'resistance.bleed', 'resistance.good'\n",
    "               , 'resistance.acid', 'resistance.negative'\n",
    "               , 'resistance.orichalcum', 'resistance.slashing'\n",
    "               , 'resistance.chaotic', 'resistance.fire'\n",
    "               , 'resistance.silver', 'resistance.evil'\n",
    "               , 'resistance.physical', 'resistance.splash'\n",
    "               , 'resistance.positive', 'resistance.force'\n",
    "               , 'immunity'\n",
    "               #immunity needs to be Dummied\n",
    "               , 'weakness.cold_iron', 'weakness.good', 'weakness.cold'\n",
    "               , 'weakness.fire'\n",
    "               , 'weakness.sonic', 'weakness.lawful'\n",
    "               , 'weakness.area', 'weakness.piercing'\n",
    "               , 'weakness.chaotic', 'weakness.splash', 'weakness.slashing'\n",
    "               , 'weakness.evil', 'weakness.silver', 'weakness.bludgeoning'\n",
    "               , 'weakness.mental', 'weakness.positive'\n",
    "               , 'weakness.orichalcum', 'weakness.electricity'\n",
    "               , 'weakness.physical'\n",
    "               , 'weakness.negative', 'weakness.acid', 'weakness.force'\n",
    "               , 'weakness.bleed']]"
   ]
  },
  {
   "cell_type": "code",
   "execution_count": 10,
   "metadata": {
    "scrolled": true
   },
   "outputs": [
    {
     "name": "stdout",
     "output_type": "stream",
     "text": [
      "<class 'pandas.core.frame.DataFrame'>\n",
      "Int64Index: 2002 entries, 0 to 2005\n",
      "Data columns (total 73 columns):\n",
      " #   Column                  Non-Null Count  Dtype  \n",
      "---  ------                  --------------  -----  \n",
      " 0   _id                     2002 non-null   object \n",
      " 1   name                    2002 non-null   object \n",
      " 2   alignment               2002 non-null   object \n",
      " 3   hp                      2002 non-null   int64  \n",
      " 4   ac                      2002 non-null   int64  \n",
      " 5   level                   2002 non-null   int64  \n",
      " 6   strength                2002 non-null   int64  \n",
      " 7   dexterity               2002 non-null   int64  \n",
      " 8   constitution            2002 non-null   int64  \n",
      " 9   intelligence            2002 non-null   int64  \n",
      " 10  wisdom                  2002 non-null   int64  \n",
      " 11  charisma                2002 non-null   int64  \n",
      " 12  will_save               2002 non-null   int64  \n",
      " 13  reflex_save             2002 non-null   int64  \n",
      " 14  fortitude_save          2002 non-null   int64  \n",
      " 15  perception              2002 non-null   int64  \n",
      " 16  skill                   1998 non-null   object \n",
      " 17  npc                     2002 non-null   bool   \n",
      " 18  size                    2002 non-null   object \n",
      " 19  speed.max               1999 non-null   float64\n",
      " 20  trait_raw               2002 non-null   object \n",
      " 21  rarity                  2002 non-null   object \n",
      " 22  vision                  1625 non-null   object \n",
      " 23  resistance.all          72 non-null     float64\n",
      " 24  resistance.poison       138 non-null    float64\n",
      " 25  resistance.area         72 non-null     float64\n",
      " 26  resistance.lawful       72 non-null     float64\n",
      " 27  resistance.bludgeoning  275 non-null    float64\n",
      " 28  resistance.sonic        93 non-null     float64\n",
      " 29  resistance.piercing     323 non-null    float64\n",
      " 30  resistance.precision    83 non-null     float64\n",
      " 31  resistance.cold_iron    71 non-null     float64\n",
      " 32  resistance.cold         158 non-null    float64\n",
      " 33  resistance.electricity  132 non-null    float64\n",
      " 34  resistance.mental       118 non-null    float64\n",
      " 35  resistance.bleed        72 non-null     float64\n",
      " 36  resistance.good         72 non-null     float64\n",
      " 37  resistance.acid         111 non-null    float64\n",
      " 38  resistance.negative     87 non-null     float64\n",
      " 39  resistance.orichalcum   72 non-null     float64\n",
      " 40  resistance.slashing     304 non-null    float64\n",
      " 41  resistance.chaotic      73 non-null     float64\n",
      " 42  resistance.fire         192 non-null    float64\n",
      " 43  resistance.silver       72 non-null     float64\n",
      " 44  resistance.evil         73 non-null     float64\n",
      " 45  resistance.physical     234 non-null    float64\n",
      " 46  resistance.splash       72 non-null     float64\n",
      " 47  resistance.positive     22 non-null     float64\n",
      " 48  resistance.force        9 non-null      float64\n",
      " 49  immunity                940 non-null    object \n",
      " 50  weakness.cold_iron      161 non-null    float64\n",
      " 51  weakness.good           131 non-null    float64\n",
      " 52  weakness.cold           63 non-null     float64\n",
      " 53  weakness.fire           116 non-null    float64\n",
      " 54  weakness.sonic          10 non-null     float64\n",
      " 55  weakness.lawful         18 non-null     float64\n",
      " 56  weakness.area           64 non-null     float64\n",
      " 57  weakness.piercing       12 non-null     float64\n",
      " 58  weakness.chaotic        9 non-null      float64\n",
      " 59  weakness.splash         11 non-null     float64\n",
      " 60  weakness.slashing       49 non-null     float64\n",
      " 61  weakness.evil           29 non-null     float64\n",
      " 62  weakness.silver         22 non-null     float64\n",
      " 63  weakness.bludgeoning    19 non-null     float64\n",
      " 64  weakness.mental         6 non-null      float64\n",
      " 65  weakness.positive       48 non-null     float64\n",
      " 66  weakness.orichalcum     19 non-null     float64\n",
      " 67  weakness.electricity    26 non-null     float64\n",
      " 68  weakness.physical       3 non-null      float64\n",
      " 69  weakness.negative       1 non-null      float64\n",
      " 70  weakness.acid           3 non-null      float64\n",
      " 71  weakness.force          2 non-null      float64\n",
      " 72  weakness.bleed          1 non-null      float64\n",
      "dtypes: bool(1), float64(50), int64(13), object(9)\n",
      "memory usage: 1.1+ MB\n"
     ]
    }
   ],
   "source": [
    "df_short.info()"
   ]
  },
  {
   "cell_type": "code",
   "execution_count": 11,
   "metadata": {},
   "outputs": [
    {
     "name": "stderr",
     "output_type": "stream",
     "text": [
      "<ipython-input-11-da1b955f0c85>:1: SettingWithCopyWarning: \n",
      "A value is trying to be set on a copy of a slice from a DataFrame.\n",
      "Try using .loc[row_indexer,col_indexer] = value instead\n",
      "\n",
      "See the caveats in the documentation: https://pandas.pydata.org/pandas-docs/stable/user_guide/indexing.html#returning-a-view-versus-a-copy\n",
      "  df_short['speed.max'] = df_short['speed.max'].fillna(0)\n"
     ]
    }
   ],
   "source": [
    "df_short['speed.max'] = df_short['speed.max'].fillna(0)"
   ]
  },
  {
   "cell_type": "code",
   "execution_count": 12,
   "metadata": {},
   "outputs": [
    {
     "name": "stderr",
     "output_type": "stream",
     "text": [
      "<ipython-input-12-4fe92d5d840f>:1: SettingWithCopyWarning: \n",
      "A value is trying to be set on a copy of a slice from a DataFrame.\n",
      "Try using .loc[row_indexer,col_indexer] = value instead\n",
      "\n",
      "See the caveats in the documentation: https://pandas.pydata.org/pandas-docs/stable/user_guide/indexing.html#returning-a-view-versus-a-copy\n",
      "  df_short['vision'] = df_short['vision'].fillna(\"standard\")\n"
     ]
    }
   ],
   "source": [
    "df_short['vision'] = df_short['vision'].fillna(\"standard\")"
   ]
  },
  {
   "cell_type": "code",
   "execution_count": 13,
   "metadata": {},
   "outputs": [],
   "source": [
    "res_weak = [ 'resistance.all', 'resistance.poison'\n",
    "               , 'resistance.area', 'resistance.lawful'\n",
    "               , 'resistance.bludgeoning', 'resistance.sonic'\n",
    "               , 'resistance.piercing', 'resistance.precision'\n",
    "               , 'resistance.cold_iron', 'resistance.cold'\n",
    "               , 'resistance.electricity', 'resistance.mental'\n",
    "               , 'resistance.bleed', 'resistance.good'\n",
    "               , 'resistance.acid', 'resistance.negative'\n",
    "               , 'resistance.orichalcum', 'resistance.slashing'\n",
    "               , 'resistance.chaotic', 'resistance.fire'\n",
    "               , 'resistance.silver', 'resistance.evil'\n",
    "               , 'resistance.physical', 'resistance.splash'\n",
    "               , 'resistance.positive', 'resistance.force'\n",
    "               , 'weakness.cold_iron', 'weakness.good', 'weakness.cold'\n",
    "               , 'weakness.fire'\n",
    "               , 'weakness.sonic', 'weakness.lawful'\n",
    "               , 'weakness.area', 'weakness.piercing'\n",
    "               , 'weakness.chaotic', 'weakness.splash', 'weakness.slashing'\n",
    "               , 'weakness.evil', 'weakness.silver', 'weakness.bludgeoning'\n",
    "               , 'weakness.mental', 'weakness.positive'\n",
    "               , 'weakness.orichalcum', 'weakness.electricity'\n",
    "               , 'weakness.physical'\n",
    "               , 'weakness.negative', 'weakness.acid', 'weakness.force'\n",
    "               , 'weakness.bleed']"
   ]
  },
  {
   "cell_type": "code",
   "execution_count": 14,
   "metadata": {},
   "outputs": [
    {
     "name": "stderr",
     "output_type": "stream",
     "text": [
      "C:\\Users\\musaa\\anaconda3\\envs\\Person-Projects\\lib\\site-packages\\pandas\\core\\frame.py:3065: SettingWithCopyWarning: \n",
      "A value is trying to be set on a copy of a slice from a DataFrame.\n",
      "Try using .loc[row_indexer,col_indexer] = value instead\n",
      "\n",
      "See the caveats in the documentation: https://pandas.pydata.org/pandas-docs/stable/user_guide/indexing.html#returning-a-view-versus-a-copy\n",
      "  self[k1] = value[k2]\n"
     ]
    }
   ],
   "source": [
    "df_short[res_weak] = df_short[res_weak].fillna(0)"
   ]
  },
  {
   "cell_type": "code",
   "execution_count": 15,
   "metadata": {},
   "outputs": [],
   "source": [
    "res = [ 'resistance.all', 'resistance.poison'\n",
    "               , 'resistance.area', 'resistance.lawful'\n",
    "               , 'resistance.bludgeoning', 'resistance.sonic'\n",
    "               , 'resistance.piercing', 'resistance.precision'\n",
    "               , 'resistance.cold_iron', 'resistance.cold'\n",
    "               , 'resistance.electricity', 'resistance.mental'\n",
    "               , 'resistance.bleed', 'resistance.good'\n",
    "               , 'resistance.acid', 'resistance.negative'\n",
    "               , 'resistance.orichalcum', 'resistance.slashing'\n",
    "               , 'resistance.chaotic', 'resistance.fire'\n",
    "               , 'resistance.silver', 'resistance.evil'\n",
    "               , 'resistance.physical', 'resistance.splash'\n",
    "               , 'resistance.positive', 'resistance.force']"
   ]
  },
  {
   "cell_type": "code",
   "execution_count": 16,
   "metadata": {},
   "outputs": [],
   "source": [
    "weak =  ['weakness.cold_iron', 'weakness.good', 'weakness.cold'\n",
    "               , 'weakness.fire'\n",
    "               , 'weakness.sonic', 'weakness.lawful'\n",
    "               , 'weakness.area', 'weakness.piercing'\n",
    "               , 'weakness.chaotic', 'weakness.splash', 'weakness.slashing'\n",
    "               , 'weakness.evil', 'weakness.silver', 'weakness.bludgeoning'\n",
    "               , 'weakness.mental', 'weakness.positive'\n",
    "               , 'weakness.orichalcum', 'weakness.electricity'\n",
    "               , 'weakness.physical'\n",
    "               , 'weakness.negative', 'weakness.acid', 'weakness.force'\n",
    "               , 'weakness.bleed']"
   ]
  },
  {
   "cell_type": "code",
   "execution_count": 17,
   "metadata": {},
   "outputs": [
    {
     "name": "stderr",
     "output_type": "stream",
     "text": [
      "<ipython-input-17-242a7f2d21b7>:1: SettingWithCopyWarning: \n",
      "A value is trying to be set on a copy of a slice from a DataFrame.\n",
      "Try using .loc[row_indexer,col_indexer] = value instead\n",
      "\n",
      "See the caveats in the documentation: https://pandas.pydata.org/pandas-docs/stable/user_guide/indexing.html#returning-a-view-versus-a-copy\n",
      "  df_short[\"total_res\"] = df[res].sum(axis=1)\n",
      "<ipython-input-17-242a7f2d21b7>:2: SettingWithCopyWarning: \n",
      "A value is trying to be set on a copy of a slice from a DataFrame.\n",
      "Try using .loc[row_indexer,col_indexer] = value instead\n",
      "\n",
      "See the caveats in the documentation: https://pandas.pydata.org/pandas-docs/stable/user_guide/indexing.html#returning-a-view-versus-a-copy\n",
      "  df_short[\"total_weak\"]= df[weak].sum(axis=1)\n"
     ]
    }
   ],
   "source": [
    "df_short[\"total_res\"] = df[res].sum(axis=1)\n",
    "df_short[\"total_weak\"]= df[weak].sum(axis=1)"
   ]
  },
  {
   "cell_type": "code",
   "execution_count": 18,
   "metadata": {
    "scrolled": true,
    "tags": []
   },
   "outputs": [
    {
     "name": "stderr",
     "output_type": "stream",
     "text": [
      "C:\\Users\\musaa\\anaconda3\\envs\\Person-Projects\\lib\\site-packages\\pandas\\core\\frame.py:4163: SettingWithCopyWarning: \n",
      "A value is trying to be set on a copy of a slice from a DataFrame\n",
      "\n",
      "See the caveats in the documentation: https://pandas.pydata.org/pandas-docs/stable/user_guide/indexing.html#returning-a-view-versus-a-copy\n",
      "  return super().drop(\n"
     ]
    }
   ],
   "source": [
    "df_short.drop(columns = res_weak, inplace = True)"
   ]
  },
  {
   "cell_type": "code",
   "execution_count": 19,
   "metadata": {
    "tags": []
   },
   "outputs": [],
   "source": [
    "#dummies = pd.get_dummies(df_short[\"trait_raw\"], prefix=\"trait\")\n",
    "#dummies"
   ]
  },
  {
   "cell_type": "code",
   "execution_count": 20,
   "metadata": {},
   "outputs": [],
   "source": [
    "df_short.reset_index(drop = True, inplace = True)"
   ]
  },
  {
   "cell_type": "markdown",
   "metadata": {},
   "source": [
    "#### trait_raw holds lists as strings and contains duplicate values from the rarity column. below code turns the string back into a list and removes the duplicates"
   ]
  },
  {
   "cell_type": "code",
   "execution_count": 21,
   "metadata": {},
   "outputs": [
    {
     "name": "stderr",
     "output_type": "stream",
     "text": [
      "<ipython-input-21-ec0c163ca6a9>:10: SettingWithCopyWarning: \n",
      "A value is trying to be set on a copy of a slice from a DataFrame\n",
      "\n",
      "See the caveats in the documentation: https://pandas.pydata.org/pandas-docs/stable/user_guide/indexing.html#returning-a-view-versus-a-copy\n",
      "  df_short[\"trait_raw\"][x] = A\n",
      "C:\\Users\\musaa\\anaconda3\\envs\\Person-Projects\\lib\\site-packages\\IPython\\core\\interactiveshell.py:3418: SettingWithCopyWarning: \n",
      "A value is trying to be set on a copy of a slice from a DataFrame\n",
      "\n",
      "See the caveats in the documentation: https://pandas.pydata.org/pandas-docs/stable/user_guide/indexing.html#returning-a-view-versus-a-copy\n",
      "  exec(code_obj, self.user_global_ns, self.user_ns)\n"
     ]
    }
   ],
   "source": [
    "for x in range(0,len(df_short['trait_raw'])):\n",
    "    a = df_short[\"trait_raw\"][x]\n",
    "    b = df_short[\"rarity\"][x]\n",
    "\n",
    "    A = a.strip('][').replace(\"'\", \"\").lower().split(', ')\n",
    "\n",
    "    if b in A:\n",
    "        A.remove(b)\n",
    "\n",
    "    df_short[\"trait_raw\"][x] = A"
   ]
  },
  {
   "cell_type": "code",
   "execution_count": 22,
   "metadata": {},
   "outputs": [
    {
     "name": "stdout",
     "output_type": "stream",
     "text": [
      "<class 'pandas.core.frame.DataFrame'>\n",
      "RangeIndex: 2002 entries, 0 to 2001\n",
      "Data columns (total 26 columns):\n",
      " #   Column          Non-Null Count  Dtype  \n",
      "---  ------          --------------  -----  \n",
      " 0   _id             2002 non-null   object \n",
      " 1   name            2002 non-null   object \n",
      " 2   alignment       2002 non-null   object \n",
      " 3   hp              2002 non-null   int64  \n",
      " 4   ac              2002 non-null   int64  \n",
      " 5   level           2002 non-null   int64  \n",
      " 6   strength        2002 non-null   int64  \n",
      " 7   dexterity       2002 non-null   int64  \n",
      " 8   constitution    2002 non-null   int64  \n",
      " 9   intelligence    2002 non-null   int64  \n",
      " 10  wisdom          2002 non-null   int64  \n",
      " 11  charisma        2002 non-null   int64  \n",
      " 12  will_save       2002 non-null   int64  \n",
      " 13  reflex_save     2002 non-null   int64  \n",
      " 14  fortitude_save  2002 non-null   int64  \n",
      " 15  perception      2002 non-null   int64  \n",
      " 16  skill           1998 non-null   object \n",
      " 17  npc             2002 non-null   bool   \n",
      " 18  size            2002 non-null   object \n",
      " 19  speed.max       2002 non-null   float64\n",
      " 20  trait_raw       2002 non-null   object \n",
      " 21  rarity          2002 non-null   object \n",
      " 22  vision          2002 non-null   object \n",
      " 23  immunity        940 non-null    object \n",
      " 24  total_res       2002 non-null   float64\n",
      " 25  total_weak      2002 non-null   float64\n",
      "dtypes: bool(1), float64(3), int64(13), object(9)\n",
      "memory usage: 393.1+ KB\n"
     ]
    }
   ],
   "source": [
    "df_short.info()"
   ]
  },
  {
   "cell_type": "code",
   "execution_count": 23,
   "metadata": {},
   "outputs": [
    {
     "name": "stderr",
     "output_type": "stream",
     "text": [
      "C:\\Users\\musaa\\anaconda3\\envs\\Person-Projects\\lib\\site-packages\\pandas\\core\\indexing.py:670: SettingWithCopyWarning: \n",
      "A value is trying to be set on a copy of a slice from a DataFrame\n",
      "\n",
      "See the caveats in the documentation: https://pandas.pydata.org/pandas-docs/stable/user_guide/indexing.html#returning-a-view-versus-a-copy\n",
      "  iloc._setitem_with_indexer(indexer, value)\n",
      "<ipython-input-23-e23a11ae36d1>:1: SettingWithCopyWarning: \n",
      "A value is trying to be set on a copy of a slice from a DataFrame\n",
      "\n",
      "See the caveats in the documentation: https://pandas.pydata.org/pandas-docs/stable/user_guide/indexing.html#returning-a-view-versus-a-copy\n",
      "  df_short['skill'].loc[df_short['skill'].isnull()] = df_short['skill'].loc[df_short['skill'].isnull()].apply(lambda x: \"['None']\")\n"
     ]
    }
   ],
   "source": [
    "df_short['skill'].loc[df_short['skill'].isnull()] = df_short['skill'].loc[df_short['skill'].isnull()].apply(lambda x: \"['None']\")"
   ]
  },
  {
   "cell_type": "code",
   "execution_count": 24,
   "metadata": {},
   "outputs": [
    {
     "name": "stderr",
     "output_type": "stream",
     "text": [
      "<ipython-input-24-450741357f9f>:4: SettingWithCopyWarning: \n",
      "A value is trying to be set on a copy of a slice from a DataFrame\n",
      "\n",
      "See the caveats in the documentation: https://pandas.pydata.org/pandas-docs/stable/user_guide/indexing.html#returning-a-view-versus-a-copy\n",
      "  df_short[\"skill\"][x] = A\n"
     ]
    }
   ],
   "source": [
    "for x in range(0,len(df_short['skill'])):\n",
    "    a = df_short[\"skill\"][x]\n",
    "    A = a.strip('][').replace(\"'\", \"\").lower().split(', ')\n",
    "    df_short[\"skill\"][x] = A"
   ]
  },
  {
   "cell_type": "code",
   "execution_count": 25,
   "metadata": {},
   "outputs": [
    {
     "name": "stderr",
     "output_type": "stream",
     "text": [
      "<ipython-input-25-d8b8db0b6ac8>:6: SettingWithCopyWarning: \n",
      "A value is trying to be set on a copy of a slice from a DataFrame\n",
      "\n",
      "See the caveats in the documentation: https://pandas.pydata.org/pandas-docs/stable/user_guide/indexing.html#returning-a-view-versus-a-copy\n",
      "  df_short['skill'][x] = new_list\n"
     ]
    }
   ],
   "source": [
    "for x in range(0,len(df_short['skill'])):\n",
    "    new_list = []\n",
    "    for y in df_short['skill'][x]:\n",
    "        y = y.partition(\" \")[0]\n",
    "        new_list.append(y)\n",
    "    df_short['skill'][x] = new_list"
   ]
  },
  {
   "cell_type": "code",
   "execution_count": 26,
   "metadata": {},
   "outputs": [
    {
     "data": {
      "text/plain": [
       "0       [acrobatics, deception, diplomacy, intimidatio...\n",
       "1                   [acrobatics, athletics, intimidation]\n",
       "2       [athletics, diplomacy, medicine, religion, soc...\n",
       "3       [acrobatics, boneyard, intimidation, religion,...\n",
       "4       [athletics, deception, gambling, intimidation,...\n",
       "                              ...                        \n",
       "1997          [acrobatics, athletics, deception, stealth]\n",
       "1998    [acrobatics, arcana, crafting, intimidation, o...\n",
       "1999                                            [stealth]\n",
       "2000    [acrobatics, athletics, intimidation, medicine...\n",
       "2001    [acrobatics, arcana, deception, occultism, soc...\n",
       "Name: skill, Length: 2002, dtype: object"
      ]
     },
     "execution_count": 26,
     "metadata": {},
     "output_type": "execute_result"
    }
   ],
   "source": [
    "df_short['skill']"
   ]
  },
  {
   "cell_type": "code",
   "execution_count": 29,
   "metadata": {},
   "outputs": [],
   "source": [
    "s = df_short['skill']"
   ]
  },
  {
   "cell_type": "code",
   "execution_count": 31,
   "metadata": {},
   "outputs": [],
   "source": [
    "df_skill = pd.get_dummies(s.apply(pd.Series).stack()).sum(level=0)"
   ]
  },
  {
   "cell_type": "code",
   "execution_count": 33,
   "metadata": {},
   "outputs": [],
   "source": [
    "df_skill.to_csv('Data/df_skill.csv')"
   ]
  },
  {
   "cell_type": "code",
   "execution_count": null,
   "metadata": {},
   "outputs": [],
   "source": []
  },
  {
   "cell_type": "code",
   "execution_count": 34,
   "metadata": {},
   "outputs": [
    {
     "name": "stderr",
     "output_type": "stream",
     "text": [
      "<ipython-input-34-d2a55cec8126>:1: SettingWithCopyWarning: \n",
      "A value is trying to be set on a copy of a slice from a DataFrame.\n",
      "Try using .loc[row_indexer,col_indexer] = value instead\n",
      "\n",
      "See the caveats in the documentation: https://pandas.pydata.org/pandas-docs/stable/user_guide/indexing.html#returning-a-view-versus-a-copy\n",
      "  df_short['stealth'] = 0\n"
     ]
    }
   ],
   "source": [
    "df_short['stealth'] = 0"
   ]
  },
  {
   "cell_type": "code",
   "execution_count": 35,
   "metadata": {},
   "outputs": [
    {
     "name": "stderr",
     "output_type": "stream",
     "text": [
      "<ipython-input-35-568a18c8c958>:3: SettingWithCopyWarning: \n",
      "A value is trying to be set on a copy of a slice from a DataFrame\n",
      "\n",
      "See the caveats in the documentation: https://pandas.pydata.org/pandas-docs/stable/user_guide/indexing.html#returning-a-view-versus-a-copy\n",
      "  df_short['stealth'][x] = 1\n",
      "C:\\Users\\musaa\\anaconda3\\envs\\Person-Projects\\lib\\site-packages\\IPython\\core\\interactiveshell.py:3418: SettingWithCopyWarning: \n",
      "A value is trying to be set on a copy of a slice from a DataFrame\n",
      "\n",
      "See the caveats in the documentation: https://pandas.pydata.org/pandas-docs/stable/user_guide/indexing.html#returning-a-view-versus-a-copy\n",
      "  exec(code_obj, self.user_global_ns, self.user_ns)\n",
      "<ipython-input-35-568a18c8c958>:5: SettingWithCopyWarning: \n",
      "A value is trying to be set on a copy of a slice from a DataFrame\n",
      "\n",
      "See the caveats in the documentation: https://pandas.pydata.org/pandas-docs/stable/user_guide/indexing.html#returning-a-view-versus-a-copy\n",
      "  df_short['stealth'][x] = 0\n"
     ]
    }
   ],
   "source": [
    "for x in range(0,len(df_short['skill'])):\n",
    "    if 'stealth' in df_short['skill'][x]:\n",
    "        df_short['stealth'][x] = 1\n",
    "    else:\n",
    "        df_short['stealth'][x] = 0\n",
    "    "
   ]
  },
  {
   "cell_type": "code",
   "execution_count": 36,
   "metadata": {},
   "outputs": [
    {
     "name": "stderr",
     "output_type": "stream",
     "text": [
      "<ipython-input-36-979a20032ff0>:1: SettingWithCopyWarning: \n",
      "A value is trying to be set on a copy of a slice from a DataFrame.\n",
      "Try using .loc[row_indexer,col_indexer] = value instead\n",
      "\n",
      "See the caveats in the documentation: https://pandas.pydata.org/pandas-docs/stable/user_guide/indexing.html#returning-a-view-versus-a-copy\n",
      "  df_short['deception'] = 0\n",
      "<ipython-input-36-979a20032ff0>:4: SettingWithCopyWarning: \n",
      "A value is trying to be set on a copy of a slice from a DataFrame\n",
      "\n",
      "See the caveats in the documentation: https://pandas.pydata.org/pandas-docs/stable/user_guide/indexing.html#returning-a-view-versus-a-copy\n",
      "  df_short['deception'][x] = 1\n",
      "<ipython-input-36-979a20032ff0>:6: SettingWithCopyWarning: \n",
      "A value is trying to be set on a copy of a slice from a DataFrame\n",
      "\n",
      "See the caveats in the documentation: https://pandas.pydata.org/pandas-docs/stable/user_guide/indexing.html#returning-a-view-versus-a-copy\n",
      "  df_short['deception'][x] = 0\n"
     ]
    }
   ],
   "source": [
    "df_short['deception'] = 0\n",
    "for x in range(0,len(df_short['skill'])):\n",
    "    if 'deception' in df_short['skill'][x]:\n",
    "        df_short['deception'][x] = 1\n",
    "    else:\n",
    "        df_short['deception'][x] = 0"
   ]
  },
  {
   "cell_type": "code",
   "execution_count": 37,
   "metadata": {},
   "outputs": [
    {
     "name": "stderr",
     "output_type": "stream",
     "text": [
      "<ipython-input-37-ed656dced3be>:1: SettingWithCopyWarning: \n",
      "A value is trying to be set on a copy of a slice from a DataFrame.\n",
      "Try using .loc[row_indexer,col_indexer] = value instead\n",
      "\n",
      "See the caveats in the documentation: https://pandas.pydata.org/pandas-docs/stable/user_guide/indexing.html#returning-a-view-versus-a-copy\n",
      "  df_short['intimidation'] = 0\n",
      "<ipython-input-37-ed656dced3be>:4: SettingWithCopyWarning: \n",
      "A value is trying to be set on a copy of a slice from a DataFrame\n",
      "\n",
      "See the caveats in the documentation: https://pandas.pydata.org/pandas-docs/stable/user_guide/indexing.html#returning-a-view-versus-a-copy\n",
      "  df_short['intimidation'][x] = 1\n",
      "<ipython-input-37-ed656dced3be>:6: SettingWithCopyWarning: \n",
      "A value is trying to be set on a copy of a slice from a DataFrame\n",
      "\n",
      "See the caveats in the documentation: https://pandas.pydata.org/pandas-docs/stable/user_guide/indexing.html#returning-a-view-versus-a-copy\n",
      "  df_short['intimidation'][x] = 0\n"
     ]
    }
   ],
   "source": [
    "df_short['intimidation'] = 0\n",
    "for x in range(0,len(df_short['skill'])):\n",
    "    if 'intimidation' in df_short['skill'][x]:\n",
    "        df_short['intimidation'][x] = 1\n",
    "    else:\n",
    "        df_short['intimidation'][x] = 0"
   ]
  },
  {
   "cell_type": "code",
   "execution_count": 38,
   "metadata": {},
   "outputs": [
    {
     "name": "stderr",
     "output_type": "stream",
     "text": [
      "<ipython-input-38-0506902e7bd8>:1: SettingWithCopyWarning: \n",
      "A value is trying to be set on a copy of a slice from a DataFrame.\n",
      "Try using .loc[row_indexer,col_indexer] = value instead\n",
      "\n",
      "See the caveats in the documentation: https://pandas.pydata.org/pandas-docs/stable/user_guide/indexing.html#returning-a-view-versus-a-copy\n",
      "  df_short['thievery'] = 0\n",
      "<ipython-input-38-0506902e7bd8>:4: SettingWithCopyWarning: \n",
      "A value is trying to be set on a copy of a slice from a DataFrame\n",
      "\n",
      "See the caveats in the documentation: https://pandas.pydata.org/pandas-docs/stable/user_guide/indexing.html#returning-a-view-versus-a-copy\n",
      "  df_short['thievery'][x] = 1\n",
      "<ipython-input-38-0506902e7bd8>:6: SettingWithCopyWarning: \n",
      "A value is trying to be set on a copy of a slice from a DataFrame\n",
      "\n",
      "See the caveats in the documentation: https://pandas.pydata.org/pandas-docs/stable/user_guide/indexing.html#returning-a-view-versus-a-copy\n",
      "  df_short['thievery'][x] = 0\n"
     ]
    }
   ],
   "source": [
    "df_short['thievery'] = 0\n",
    "for x in range(0,len(df_short['skill'])):\n",
    "    if 'thievery' in df_short['skill'][x]:\n",
    "        df_short['thievery'][x] = 1\n",
    "    else:\n",
    "        df_short['thievery'][x] = 0"
   ]
  },
  {
   "cell_type": "code",
   "execution_count": 39,
   "metadata": {},
   "outputs": [
    {
     "name": "stderr",
     "output_type": "stream",
     "text": [
      "<ipython-input-39-3573594a9012>:1: SettingWithCopyWarning: \n",
      "A value is trying to be set on a copy of a slice from a DataFrame.\n",
      "Try using .loc[row_indexer,col_indexer] = value instead\n",
      "\n",
      "See the caveats in the documentation: https://pandas.pydata.org/pandas-docs/stable/user_guide/indexing.html#returning-a-view-versus-a-copy\n",
      "  df_short['occultism'] = 0\n",
      "<ipython-input-39-3573594a9012>:6: SettingWithCopyWarning: \n",
      "A value is trying to be set on a copy of a slice from a DataFrame\n",
      "\n",
      "See the caveats in the documentation: https://pandas.pydata.org/pandas-docs/stable/user_guide/indexing.html#returning-a-view-versus-a-copy\n",
      "  df_short['occultism'][x] = 0\n",
      "<ipython-input-39-3573594a9012>:4: SettingWithCopyWarning: \n",
      "A value is trying to be set on a copy of a slice from a DataFrame\n",
      "\n",
      "See the caveats in the documentation: https://pandas.pydata.org/pandas-docs/stable/user_guide/indexing.html#returning-a-view-versus-a-copy\n",
      "  df_short['occultism'][x] = 1\n"
     ]
    }
   ],
   "source": [
    "df_short['occultism'] = 0\n",
    "for x in range(0,len(df_short['skill'])):\n",
    "    if 'occultism' in df_short['skill'][x]:\n",
    "        df_short['occultism'][x] = 1\n",
    "    else:\n",
    "        df_short['occultism'][x] = 0"
   ]
  },
  {
   "cell_type": "code",
   "execution_count": 40,
   "metadata": {},
   "outputs": [
    {
     "name": "stderr",
     "output_type": "stream",
     "text": [
      "C:\\Users\\musaa\\anaconda3\\envs\\Person-Projects\\lib\\site-packages\\pandas\\core\\frame.py:4163: SettingWithCopyWarning: \n",
      "A value is trying to be set on a copy of a slice from a DataFrame\n",
      "\n",
      "See the caveats in the documentation: https://pandas.pydata.org/pandas-docs/stable/user_guide/indexing.html#returning-a-view-versus-a-copy\n",
      "  return super().drop(\n"
     ]
    }
   ],
   "source": [
    "df_short.drop(columns = \"skill\", inplace = True)"
   ]
  },
  {
   "cell_type": "code",
   "execution_count": 41,
   "metadata": {},
   "outputs": [],
   "source": [
    "from sklearn.preprocessing import MultiLabelBinarizer\n",
    "\n",
    "mlb = MultiLabelBinarizer(sparse_output=True)\n",
    "\n",
    "df_test = df_short.join(\n",
    "            pd.DataFrame.sparse.from_spmatrix(\n",
    "                mlb.fit_transform(df_short.pop('trait_raw')),\n",
    "                index=df_short.index,\n",
    "                columns=mlb.classes_))"
   ]
  },
  {
   "cell_type": "code",
   "execution_count": 42,
   "metadata": {},
   "outputs": [
    {
     "data": {
      "text/plain": [
       "['_id', 'name', 'alignment', 'hp', 'ac', 'level', 'strength', 'dexterity', 'constitution', 'intelligence', 'wisdom', 'charisma', 'will_save', 'reflex_save', 'fortitude_save', 'perception', 'npc', 'size', 'speed.max', 'rarity', 'vision', 'immunity', 'total_res', 'total_weak', 'stealth', 'deception', 'intimidation', 'thievery', 'occultism', 'aasimar', 'aberration', 'acid', 'aeon', 'aesir', 'agathion', 'air', 'alchemical', 'amphibious', 'anadi', 'android', 'angel', 'animal', 'anugobu', 'aphorite', 'aquatic', 'arcane', 'archon', 'astral', 'asura', 'automaton', 'azarketi', 'azata', 'beast', 'beastkin', 'boggard', 'caligni', 'catfolk', 'celestial', 'changeling', 'charau-ka', 'clockwork', 'cold', 'construct', 'couatl', 'daemon', 'darvakka', 'demon', 'dero', 'devil', 'dhampir', 'dinosaur', 'div', 'divine', 'dragon', 'dream', 'drow', 'duergar', 'duskwalker', 'dwarf', 'earth', 'eidolon', 'electricity', 'elemental', 'elf', 'ethereal', 'evil', 'evocation', 'fetchling', 'fey', 'fiend', 'fire', 'formian', 'fungus', 'ganzi', 'genie', 'ghoran', 'ghost', 'ghoul', 'ghul', 'giant', 'gnoll', 'gnome', 'goblin', 'golem', 'gremlin', 'grioth', 'grippli', 'hag', 'half-elf', 'half-orc', 'halfling', 'hantu', 'herald', 'hobgoblin', 'human', 'humanoid', 'ifrit', 'ikeshti', 'illusion', 'incorporeal', 'inevitable', 'kami', 'kitsune', 'kobold', 'kovintus', 'leshy', 'light', 'lizardfolk', 'locathah', 'mental', 'merfolk', 'mindless', 'minion', 'monitor', 'morlock', 'mortic', 'mummy', 'munavri', 'mutant', 'nagaji', 'negative', 'nymph', 'oni', 'ooze', 'orc', 'oread', 'paaridar', 'phantom', 'plant', 'poison', 'positive', 'primal', 'protean', 'psychopomp', 'qlippoth', 'rakshasa', 'ratfolk', 'sahkil', 'samsaran', 'sea devil', 'serpentfolk', 'seugathi', 'shabti', 'shadow', 'shoony', 'siktempora', 'skeleton', 'skelm', 'skulk', 'soulbound', 'spirit', 'spriggan', 'sprite', 'stheno', 'strix', 'suli', 'swarm', 'sylph', 'tane', 'tanggal', 'tengu', 'tiefling', 'time', 'titan', 'troll', 'troop', 'undead', 'undine', 'urdefhan', 'vampire', 'vanara', 'velstrac', 'vishkanya', 'water', 'wayang', 'werecreature', 'wight', 'wraith', 'wyrwood', 'xulgath', 'zombie']"
      ]
     },
     "execution_count": 42,
     "metadata": {},
     "output_type": "execute_result"
    }
   ],
   "source": [
    "list(df_test.columns)"
   ]
  },
  {
   "cell_type": "code",
   "execution_count": 71,
   "metadata": {},
   "outputs": [],
   "source": [
    "df_trait = df_test.iloc[:,list(range(29,201))]"
   ]
  },
  {
   "cell_type": "code",
   "execution_count": 72,
   "metadata": {},
   "outputs": [],
   "source": [
    "df_trait.to_csv('Data/df_trait.csv')"
   ]
  },
  {
   "cell_type": "code",
   "execution_count": 43,
   "metadata": {},
   "outputs": [],
   "source": [
    "key_list = tag = ['aasimar', 'aberration', 'acid', 'aeon', 'aesir', 'agathion', 'air', 'alchemical', 'amphibious', 'anadi', 'android', 'angel', 'animal', 'anugobu', 'aphorite', 'aquatic', 'arcane', 'archon', 'astral', 'asura', 'automaton', 'azarketi', 'azata', 'beast', 'beastkin', 'boggard', 'caligni', 'catfolk', 'celestial', 'changeling', 'charau-ka', 'clockwork', 'cold', 'construct', 'couatl', 'daemon', 'darvakka', 'demon', 'dero', 'devil', 'dhampir', 'dinosaur', 'div', 'divine', 'dragon', 'dream', 'drow', 'duergar', 'duskwalker', 'dwarf', 'earth', 'eidolon', 'electricity', 'elemental', 'elf', 'ethereal', 'evil', 'evocation', 'fetchling', 'fey', 'fiend', 'fire', 'formian', 'fungus', 'ganzi', 'genie', 'ghoran', 'ghost', 'ghoul', 'ghul', 'giant', 'gnoll', 'gnome', 'goblin', 'golem', 'gremlin', 'grioth', 'grippli', 'hag', 'half-elf', 'half-orc', 'halfling', 'hantu', 'herald', 'hobgoblin', 'human', 'humanoid', 'ifrit', 'ikeshti', 'illusion', 'incorporeal', 'inevitable', 'kami', 'kitsune', 'kobold', 'kovintus', 'leshy', 'light', 'lizardfolk', 'locathah', 'mental', 'merfolk', 'mindless', 'minion', 'monitor', 'morlock', 'mortic', 'mummy', 'munavri', 'mutant', 'nagaji', 'negative', 'nymph', 'oni', 'ooze', 'orc', 'oread', 'paaridar', 'phantom', 'plant', 'poison', 'positive', 'primal', 'protean', 'psychopomp', 'qlippoth', 'rakshasa', 'ratfolk', 'sahkil', 'samsaran', 'sea devil', 'serpentfolk', 'seugathi', 'shabti', 'shadow', 'shoony', 'siktempora', 'skeleton', 'skelm', 'skulk', 'soulbound', 'spirit', 'spriggan', 'sprite', 'stheno', 'strix', 'suli', 'swarm', 'sylph', 'tane', 'tanggal', 'tengu', 'tiefling', 'time', 'titan', 'troll', 'troop', 'undead', 'undine', 'urdefhan', 'vampire', 'vanara', 'velstrac', 'vishkanya', 'water', 'wayang', 'werecreature', 'wight', 'wraith', 'wyrwood', 'xulgath', 'zombie']"
   ]
  },
  {
   "cell_type": "code",
   "execution_count": 44,
   "metadata": {},
   "outputs": [],
   "source": [
    "value_list = list(df_test[tag].sum() > 150)"
   ]
  },
  {
   "cell_type": "code",
   "execution_count": 45,
   "metadata": {},
   "outputs": [],
   "source": [
    "dict_from_list = dict(zip(key_list, value_list))"
   ]
  },
  {
   "cell_type": "code",
   "execution_count": 46,
   "metadata": {},
   "outputs": [
    {
     "data": {
      "text/plain": [
       "{'aasimar': False, 'aberration': False, 'acid': False, 'aeon': False, 'aesir': False, 'agathion': False, 'air': False, 'alchemical': False, 'amphibious': False, 'anadi': False, 'android': False, 'angel': False, 'animal': True, 'anugobu': False, 'aphorite': False, 'aquatic': False, 'arcane': False, 'archon': False, 'astral': False, 'asura': False, 'automaton': False, 'azarketi': False, 'azata': False, 'beast': False, 'beastkin': False, 'boggard': False, 'caligni': False, 'catfolk': False, 'celestial': False, 'changeling': False, 'charau-ka': False, 'clockwork': False, 'cold': False, 'construct': False, 'couatl': False, 'daemon': False, 'darvakka': False, 'demon': False, 'dero': False, 'devil': False, 'dhampir': False, 'dinosaur': False, 'div': False, 'divine': False, 'dragon': False, 'dream': False, 'drow': False, 'duergar': False, 'duskwalker': False, 'dwarf': False, 'earth': False, 'eidolon': False, 'electricity': False, 'elemental': False, 'elf': False, 'ethereal': False, 'evil': False, 'evocation': False, 'fetchling': False, 'fey': False, 'fiend': False, 'fire': False, 'formian': False, 'fungus': False, 'ganzi': False, 'genie': False, 'ghoran': False, 'ghost': False, 'ghoul': False, 'ghul': False, 'giant': False, 'gnoll': False, 'gnome': False, 'goblin': False, 'golem': False, 'gremlin': False, 'grioth': False, 'grippli': False, 'hag': False, 'half-elf': False, 'half-orc': False, 'halfling': False, 'hantu': False, 'herald': False, 'hobgoblin': False, 'human': True, 'humanoid': True, 'ifrit': False, 'ikeshti': False, 'illusion': False, 'incorporeal': False, 'inevitable': False, 'kami': False, 'kitsune': False, 'kobold': False, 'kovintus': False, 'leshy': False, 'light': False, 'lizardfolk': False, 'locathah': False, 'mental': False, 'merfolk': False, 'mindless': True, 'minion': False, 'monitor': False, 'morlock': False, 'mortic': False, 'mummy': False, 'munavri': False, 'mutant': False, 'nagaji': False, 'negative': False, 'nymph': False, 'oni': False, 'ooze': False, 'orc': False, 'oread': False, 'paaridar': False, 'phantom': False, 'plant': False, 'poison': False, 'positive': False, 'primal': False, 'protean': False, 'psychopomp': False, 'qlippoth': False, 'rakshasa': False, 'ratfolk': False, 'sahkil': False, 'samsaran': False, 'sea devil': False, 'serpentfolk': False, 'seugathi': False, 'shabti': False, 'shadow': False, 'shoony': False, 'siktempora': False, 'skeleton': False, 'skelm': False, 'skulk': False, 'soulbound': False, 'spirit': False, 'spriggan': False, 'sprite': False, 'stheno': False, 'strix': False, 'suli': False, 'swarm': False, 'sylph': False, 'tane': False, 'tanggal': False, 'tengu': False, 'tiefling': False, 'time': False, 'titan': False, 'troll': False, 'troop': False, 'undead': True, 'undine': False, 'urdefhan': False, 'vampire': False, 'vanara': False, 'velstrac': False, 'vishkanya': False, 'water': False, 'wayang': False, 'werecreature': False, 'wight': False, 'wraith': False, 'wyrwood': False, 'xulgath': False, 'zombie': False}"
      ]
     },
     "execution_count": 46,
     "metadata": {},
     "output_type": "execute_result"
    }
   ],
   "source": [
    "dict_from_list"
   ]
  },
  {
   "cell_type": "code",
   "execution_count": 145,
   "metadata": {},
   "outputs": [
    {
     "name": "stdout",
     "output_type": "stream",
     "text": [
      "Filtered Dictionary : \n",
      "{'animal': True, 'human': True, 'humanoid': True, 'mindless': True, 'undead': True}\n"
     ]
    }
   ],
   "source": [
    "newDict = dict()\n",
    "# Iterate over all the items in dictionary and filter items which has even keys\n",
    "for (key, value) in dict_from_list.items():\n",
    "   # Check if key is even then add pair to new dictionary\n",
    "   if value == True:\n",
    "        newDict[key] = value\n",
    "print('Filtered Dictionary : ')\n",
    "print(newDict)"
   ]
  },
  {
   "cell_type": "code",
   "execution_count": 146,
   "metadata": {},
   "outputs": [],
   "source": [
    "trait = ['animal','humanoid', 'mindless', 'undead']"
   ]
  },
  {
   "cell_type": "code",
   "execution_count": 147,
   "metadata": {},
   "outputs": [
    {
     "data": {
      "text/html": [
       "<div>\n",
       "<style scoped>\n",
       "    .dataframe tbody tr th:only-of-type {\n",
       "        vertical-align: middle;\n",
       "    }\n",
       "\n",
       "    .dataframe tbody tr th {\n",
       "        vertical-align: top;\n",
       "    }\n",
       "\n",
       "    .dataframe thead th {\n",
       "        text-align: right;\n",
       "    }\n",
       "</style>\n",
       "<table border=\"1\" class=\"dataframe\">\n",
       "  <thead>\n",
       "    <tr style=\"text-align: right;\">\n",
       "      <th></th>\n",
       "      <th>animal</th>\n",
       "      <th>humanoid</th>\n",
       "      <th>mindless</th>\n",
       "      <th>undead</th>\n",
       "    </tr>\n",
       "  </thead>\n",
       "  <tbody>\n",
       "    <tr>\n",
       "      <th>0</th>\n",
       "      <td>0</td>\n",
       "      <td>1</td>\n",
       "      <td>0</td>\n",
       "      <td>0</td>\n",
       "    </tr>\n",
       "    <tr>\n",
       "      <th>1</th>\n",
       "      <td>0</td>\n",
       "      <td>1</td>\n",
       "      <td>0</td>\n",
       "      <td>0</td>\n",
       "    </tr>\n",
       "    <tr>\n",
       "      <th>2</th>\n",
       "      <td>0</td>\n",
       "      <td>1</td>\n",
       "      <td>0</td>\n",
       "      <td>0</td>\n",
       "    </tr>\n",
       "    <tr>\n",
       "      <th>3</th>\n",
       "      <td>0</td>\n",
       "      <td>0</td>\n",
       "      <td>0</td>\n",
       "      <td>1</td>\n",
       "    </tr>\n",
       "    <tr>\n",
       "      <th>4</th>\n",
       "      <td>0</td>\n",
       "      <td>1</td>\n",
       "      <td>0</td>\n",
       "      <td>0</td>\n",
       "    </tr>\n",
       "    <tr>\n",
       "      <th>...</th>\n",
       "      <td>...</td>\n",
       "      <td>...</td>\n",
       "      <td>...</td>\n",
       "      <td>...</td>\n",
       "    </tr>\n",
       "    <tr>\n",
       "      <th>1997</th>\n",
       "      <td>0</td>\n",
       "      <td>0</td>\n",
       "      <td>0</td>\n",
       "      <td>0</td>\n",
       "    </tr>\n",
       "    <tr>\n",
       "      <th>1998</th>\n",
       "      <td>0</td>\n",
       "      <td>1</td>\n",
       "      <td>0</td>\n",
       "      <td>0</td>\n",
       "    </tr>\n",
       "    <tr>\n",
       "      <th>1999</th>\n",
       "      <td>0</td>\n",
       "      <td>0</td>\n",
       "      <td>0</td>\n",
       "      <td>0</td>\n",
       "    </tr>\n",
       "    <tr>\n",
       "      <th>2000</th>\n",
       "      <td>0</td>\n",
       "      <td>0</td>\n",
       "      <td>0</td>\n",
       "      <td>0</td>\n",
       "    </tr>\n",
       "    <tr>\n",
       "      <th>2001</th>\n",
       "      <td>0</td>\n",
       "      <td>1</td>\n",
       "      <td>0</td>\n",
       "      <td>0</td>\n",
       "    </tr>\n",
       "  </tbody>\n",
       "</table>\n",
       "<p>2002 rows × 4 columns</p>\n",
       "</div>"
      ],
      "text/plain": [
       "      animal  humanoid  mindless  undead\n",
       "0          0         1         0       0\n",
       "1          0         1         0       0\n",
       "2          0         1         0       0\n",
       "3          0         0         0       1\n",
       "4          0         1         0       0\n",
       "...      ...       ...       ...     ...\n",
       "1997       0         0         0       0\n",
       "1998       0         1         0       0\n",
       "1999       0         0         0       0\n",
       "2000       0         0         0       0\n",
       "2001       0         1         0       0\n",
       "\n",
       "[2002 rows x 4 columns]"
      ]
     },
     "execution_count": 147,
     "metadata": {},
     "output_type": "execute_result"
    }
   ],
   "source": [
    "df_test[trait]"
   ]
  },
  {
   "cell_type": "code",
   "execution_count": 180,
   "metadata": {},
   "outputs": [],
   "source": [
    "df_whole = pd.concat([df_short, df_test[trait]], axis=1)"
   ]
  },
  {
   "cell_type": "code",
   "execution_count": 181,
   "metadata": {},
   "outputs": [
    {
     "name": "stdout",
     "output_type": "stream",
     "text": [
      "<class 'pandas.core.frame.DataFrame'>\n",
      "RangeIndex: 2002 entries, 0 to 2001\n",
      "Data columns (total 33 columns):\n",
      " #   Column          Non-Null Count  Dtype           \n",
      "---  ------          --------------  -----           \n",
      " 0   _id             2002 non-null   object          \n",
      " 1   name            2002 non-null   object          \n",
      " 2   alignment       2002 non-null   object          \n",
      " 3   hp              2002 non-null   int64           \n",
      " 4   ac              2002 non-null   int64           \n",
      " 5   level           2002 non-null   int64           \n",
      " 6   strength        2002 non-null   int64           \n",
      " 7   dexterity       2002 non-null   int64           \n",
      " 8   constitution    2002 non-null   int64           \n",
      " 9   intelligence    2002 non-null   int64           \n",
      " 10  wisdom          2002 non-null   int64           \n",
      " 11  charisma        2002 non-null   int64           \n",
      " 12  will_save       2002 non-null   int64           \n",
      " 13  reflex_save     2002 non-null   int64           \n",
      " 14  fortitude_save  2002 non-null   int64           \n",
      " 15  perception      2002 non-null   int64           \n",
      " 16  npc             2002 non-null   bool            \n",
      " 17  size            2002 non-null   object          \n",
      " 18  speed.max       2002 non-null   float64         \n",
      " 19  rarity          2002 non-null   object          \n",
      " 20  vision          2002 non-null   object          \n",
      " 21  immunity        940 non-null    object          \n",
      " 22  total_res       2002 non-null   float64         \n",
      " 23  total_weak      2002 non-null   float64         \n",
      " 24  stealth         2002 non-null   int64           \n",
      " 25  deception       2002 non-null   int64           \n",
      " 26  intimidation    2002 non-null   int64           \n",
      " 27  thievery        2002 non-null   int64           \n",
      " 28  occultism       2002 non-null   int64           \n",
      " 29  animal          2002 non-null   Sparse[int32, 0]\n",
      " 30  humanoid        2002 non-null   Sparse[int32, 0]\n",
      " 31  mindless        2002 non-null   Sparse[int32, 0]\n",
      " 32  undead          2002 non-null   Sparse[int32, 0]\n",
      "dtypes: Sparse[int32, 0](4), bool(1), float64(3), int64(18), object(7)\n",
      "memory usage: 449.8+ KB\n"
     ]
    }
   ],
   "source": [
    "df_whole.info()"
   ]
  },
  {
   "cell_type": "code",
   "execution_count": 182,
   "metadata": {},
   "outputs": [],
   "source": [
    "df_whole['immunity'] = df_whole['immunity'].fillna(0)"
   ]
  },
  {
   "cell_type": "code",
   "execution_count": 183,
   "metadata": {},
   "outputs": [
    {
     "name": "stderr",
     "output_type": "stream",
     "text": [
      "<ipython-input-183-22cfb833f0ec>:3: SettingWithCopyWarning: \n",
      "A value is trying to be set on a copy of a slice from a DataFrame\n",
      "\n",
      "See the caveats in the documentation: https://pandas.pydata.org/pandas-docs/stable/user_guide/indexing.html#returning-a-view-versus-a-copy\n",
      "  df_whole['immunity'][x] = 1\n"
     ]
    }
   ],
   "source": [
    "for x in range(0,len(df_whole['immunity'])):\n",
    "    if df_whole['immunity'][x] != 0:\n",
    "        df_whole['immunity'][x] = 1\n",
    "    else: \n",
    "        pass"
   ]
  },
  {
   "cell_type": "code",
   "execution_count": 195,
   "metadata": {},
   "outputs": [],
   "source": [
    "df_whole['immunity'] = df_whole['immunity'].astype(int)"
   ]
  },
  {
   "cell_type": "code",
   "execution_count": 196,
   "metadata": {},
   "outputs": [
    {
     "name": "stdout",
     "output_type": "stream",
     "text": [
      "<class 'pandas.core.frame.DataFrame'>\n",
      "RangeIndex: 2002 entries, 0 to 2001\n",
      "Data columns (total 33 columns):\n",
      " #   Column          Non-Null Count  Dtype           \n",
      "---  ------          --------------  -----           \n",
      " 0   _id             2002 non-null   object          \n",
      " 1   name            2002 non-null   object          \n",
      " 2   alignment       2002 non-null   object          \n",
      " 3   hp              2002 non-null   int64           \n",
      " 4   ac              2002 non-null   int64           \n",
      " 5   level           2002 non-null   int64           \n",
      " 6   strength        2002 non-null   int64           \n",
      " 7   dexterity       2002 non-null   int64           \n",
      " 8   constitution    2002 non-null   int64           \n",
      " 9   intelligence    2002 non-null   int64           \n",
      " 10  wisdom          2002 non-null   int64           \n",
      " 11  charisma        2002 non-null   int64           \n",
      " 12  will_save       2002 non-null   int64           \n",
      " 13  reflex_save     2002 non-null   int64           \n",
      " 14  fortitude_save  2002 non-null   int64           \n",
      " 15  perception      2002 non-null   int64           \n",
      " 16  npc             2002 non-null   bool            \n",
      " 17  size            2002 non-null   object          \n",
      " 18  speed.max       2002 non-null   float64         \n",
      " 19  rarity          2002 non-null   object          \n",
      " 20  vision          2002 non-null   object          \n",
      " 21  immunity        2002 non-null   int32           \n",
      " 22  total_res       2002 non-null   float64         \n",
      " 23  total_weak      2002 non-null   float64         \n",
      " 24  stealth         2002 non-null   int64           \n",
      " 25  deception       2002 non-null   int64           \n",
      " 26  intimidation    2002 non-null   int64           \n",
      " 27  thievery        2002 non-null   int64           \n",
      " 28  occultism       2002 non-null   int64           \n",
      " 29  animal          2002 non-null   Sparse[int32, 0]\n",
      " 30  humanoid        2002 non-null   Sparse[int32, 0]\n",
      " 31  mindless        2002 non-null   Sparse[int32, 0]\n",
      " 32  undead          2002 non-null   Sparse[int32, 0]\n",
      "dtypes: Sparse[int32, 0](4), bool(1), float64(3), int32(1), int64(18), object(6)\n",
      "memory usage: 442.0+ KB\n"
     ]
    }
   ],
   "source": [
    "df_whole.info()"
   ]
  },
  {
   "cell_type": "code",
   "execution_count": 197,
   "metadata": {},
   "outputs": [],
   "source": [
    "df_whole.to_csv(\"data/All_creatures_clean.csv\",index = False)"
   ]
  },
  {
   "cell_type": "code",
   "execution_count": 202,
   "metadata": {},
   "outputs": [],
   "source": [
    "df_res_weak = df[res_weak].fillna(0)"
   ]
  },
  {
   "cell_type": "code",
   "execution_count": 205,
   "metadata": {
    "tags": []
   },
   "outputs": [],
   "source": [
    "df_res_weak.reset_index(drop = True, inplace = True)"
   ]
  },
  {
   "cell_type": "code",
   "execution_count": 208,
   "metadata": {},
   "outputs": [],
   "source": [
    "df_res_weak.to_csv(\"data/res_weak.csv\",index = False)"
   ]
  },
  {
   "cell_type": "code",
   "execution_count": null,
   "metadata": {},
   "outputs": [],
   "source": []
  }
 ],
 "metadata": {
  "kernelspec": {
   "display_name": "Python 3",
   "language": "python",
   "name": "python3"
  },
  "language_info": {
   "codemirror_mode": {
    "name": "ipython",
    "version": 3
   },
   "file_extension": ".py",
   "mimetype": "text/x-python",
   "name": "python",
   "nbconvert_exporter": "python",
   "pygments_lexer": "ipython3",
   "version": "3.8.5"
  },
  "toc-showcode": false,
  "toc-showmarkdowntxt": false
 },
 "nbformat": 4,
 "nbformat_minor": 4
}
